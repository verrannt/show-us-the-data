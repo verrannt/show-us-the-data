{
 "cells": [
  {
   "cell_type": "code",
   "execution_count": 2,
   "id": "6fffa715",
   "metadata": {},
   "outputs": [],
   "source": [
    "import src.utils.data.parse as p"
   ]
  },
  {
   "cell_type": "code",
   "execution_count": 3,
   "id": "8c7c60aa",
   "metadata": {},
   "outputs": [],
   "source": [
    "import pandas as pd\n",
    "from langdetect import detect\n",
    "from nltk.corpus import stopwords\n",
    "import nltk"
   ]
  },
  {
   "cell_type": "code",
   "execution_count": 4,
   "id": "990ad3f2",
   "metadata": {},
   "outputs": [],
   "source": [
    "stop_words = set(stopwords.words('english'))"
   ]
  },
  {
   "cell_type": "code",
   "execution_count": 6,
   "id": "178b848f",
   "metadata": {},
   "outputs": [],
   "source": [
    "data_path = 'src\\\\utils\\\\data\\\\coleridgeinitiative-show-us-the-data\\\\'"
   ]
  },
  {
   "cell_type": "code",
   "execution_count": 26,
   "id": "b0a6d5fc",
   "metadata": {},
   "outputs": [],
   "source": [
    "def omit_by(dct, predicate=lambda x: x!=0 and not x):\n",
    "\n",
    "    return {k: v for k, v in dct.items() if not predicate(v)}\n",
    "def detect_lang(text):\n",
    "    return detect(text)\n",
    "def return_common_stop_words(dataset_title):\n",
    "    if bool(set(dataset_title.split())&stop_words):\n",
    "        return [(set(dataset_title.split())&stop_words)]\n",
    "    return [\"None\"]\n",
    "    \n",
    "parser = p.ParseUtils"
   ]
  },
  {
   "cell_type": "code",
   "execution_count": 11,
   "id": "0654c0bb",
   "metadata": {},
   "outputs": [],
   "source": [
    "dataset =parser.get_train_df()"
   ]
  },
  {
   "cell_type": "code",
   "execution_count": 27,
   "id": "d1686d07",
   "metadata": {},
   "outputs": [],
   "source": [
    "dataset['content'] = dataset.apply(lambda x: parser.parse_json(x.Id,\"content\"),axis=1)\n",
    "dataset['lang'] =  dataset.apply(lambda x: detect_lang(x.content),axis=1)\n",
    "dataset['stop_words'] = dataset.apply(lambda x:return_common_stop_words(x.dataset_label),axis=1)"
   ]
  },
  {
   "cell_type": "code",
   "execution_count": 28,
   "id": "8b42ab3a",
   "metadata": {},
   "outputs": [
    {
     "data": {
      "text/html": [
       "<div>\n",
       "<style scoped>\n",
       "    .dataframe tbody tr th:only-of-type {\n",
       "        vertical-align: middle;\n",
       "    }\n",
       "\n",
       "    .dataframe tbody tr th {\n",
       "        vertical-align: top;\n",
       "    }\n",
       "\n",
       "    .dataframe thead th {\n",
       "        text-align: right;\n",
       "    }\n",
       "</style>\n",
       "<table border=\"1\" class=\"dataframe\">\n",
       "  <thead>\n",
       "    <tr style=\"text-align: right;\">\n",
       "      <th></th>\n",
       "      <th>Id</th>\n",
       "      <th>pub_title</th>\n",
       "      <th>dataset_title</th>\n",
       "      <th>dataset_label</th>\n",
       "      <th>cleaned_label</th>\n",
       "      <th>content</th>\n",
       "      <th>lang</th>\n",
       "      <th>stop_words</th>\n",
       "    </tr>\n",
       "  </thead>\n",
       "  <tbody>\n",
       "    <tr>\n",
       "      <th>0</th>\n",
       "      <td>d0fa7568-7d8e-4db9-870f-f9c6f668c17b</td>\n",
       "      <td>The Impact of Dual Enrollment on College Degre...</td>\n",
       "      <td>National Education Longitudinal Study</td>\n",
       "      <td>National Education Longitudinal Study</td>\n",
       "      <td>national education longitudinal study</td>\n",
       "      <td>This study used data from the National Educati...</td>\n",
       "      <td>en</td>\n",
       "      <td>[None]</td>\n",
       "    </tr>\n",
       "    <tr>\n",
       "      <th>1</th>\n",
       "      <td>2f26f645-3dec-485d-b68d-f013c9e05e60</td>\n",
       "      <td>Educational Attainment of High School Dropouts...</td>\n",
       "      <td>National Education Longitudinal Study</td>\n",
       "      <td>National Education Longitudinal Study</td>\n",
       "      <td>national education longitudinal study</td>\n",
       "      <td>Dropping out of high school is not necessarily...</td>\n",
       "      <td>en</td>\n",
       "      <td>[None]</td>\n",
       "    </tr>\n",
       "    <tr>\n",
       "      <th>2</th>\n",
       "      <td>c5d5cd2c-59de-4f29-bbb1-6a88c7b52f29</td>\n",
       "      <td>Differences in Outcomes for Female and Male St...</td>\n",
       "      <td>National Education Longitudinal Study</td>\n",
       "      <td>National Education Longitudinal Study</td>\n",
       "      <td>national education longitudinal study</td>\n",
       "      <td>., stress satisfactory outcomes for all youth,...</td>\n",
       "      <td>en</td>\n",
       "      <td>[None]</td>\n",
       "    </tr>\n",
       "    <tr>\n",
       "      <th>3</th>\n",
       "      <td>5c9a3bc9-41ba-4574-ad71-e25c1442c8af</td>\n",
       "      <td>Stepping Stone and Option Value in a Model of ...</td>\n",
       "      <td>National Education Longitudinal Study</td>\n",
       "      <td>National Education Longitudinal Study</td>\n",
       "      <td>national education longitudinal study</td>\n",
       "      <td>Federal Reserve Bank of Richmond S1. Accountin...</td>\n",
       "      <td>en</td>\n",
       "      <td>[None]</td>\n",
       "    </tr>\n",
       "    <tr>\n",
       "      <th>4</th>\n",
       "      <td>c754dec7-c5a3-4337-9892-c02158475064</td>\n",
       "      <td>Parental Effort, School Resources, and Student...</td>\n",
       "      <td>National Education Longitudinal Study</td>\n",
       "      <td>National Education Longitudinal Study</td>\n",
       "      <td>national education longitudinal study</td>\n",
       "      <td>This article investigates an important factor ...</td>\n",
       "      <td>en</td>\n",
       "      <td>[None]</td>\n",
       "    </tr>\n",
       "  </tbody>\n",
       "</table>\n",
       "</div>"
      ],
      "text/plain": [
       "                                     Id  \\\n",
       "0  d0fa7568-7d8e-4db9-870f-f9c6f668c17b   \n",
       "1  2f26f645-3dec-485d-b68d-f013c9e05e60   \n",
       "2  c5d5cd2c-59de-4f29-bbb1-6a88c7b52f29   \n",
       "3  5c9a3bc9-41ba-4574-ad71-e25c1442c8af   \n",
       "4  c754dec7-c5a3-4337-9892-c02158475064   \n",
       "\n",
       "                                           pub_title  \\\n",
       "0  The Impact of Dual Enrollment on College Degre...   \n",
       "1  Educational Attainment of High School Dropouts...   \n",
       "2  Differences in Outcomes for Female and Male St...   \n",
       "3  Stepping Stone and Option Value in a Model of ...   \n",
       "4  Parental Effort, School Resources, and Student...   \n",
       "\n",
       "                           dataset_title  \\\n",
       "0  National Education Longitudinal Study   \n",
       "1  National Education Longitudinal Study   \n",
       "2  National Education Longitudinal Study   \n",
       "3  National Education Longitudinal Study   \n",
       "4  National Education Longitudinal Study   \n",
       "\n",
       "                           dataset_label  \\\n",
       "0  National Education Longitudinal Study   \n",
       "1  National Education Longitudinal Study   \n",
       "2  National Education Longitudinal Study   \n",
       "3  National Education Longitudinal Study   \n",
       "4  National Education Longitudinal Study   \n",
       "\n",
       "                           cleaned_label  \\\n",
       "0  national education longitudinal study   \n",
       "1  national education longitudinal study   \n",
       "2  national education longitudinal study   \n",
       "3  national education longitudinal study   \n",
       "4  national education longitudinal study   \n",
       "\n",
       "                                             content lang stop_words  \n",
       "0  This study used data from the National Educati...   en     [None]  \n",
       "1  Dropping out of high school is not necessarily...   en     [None]  \n",
       "2  ., stress satisfactory outcomes for all youth,...   en     [None]  \n",
       "3  Federal Reserve Bank of Richmond S1. Accountin...   en     [None]  \n",
       "4  This article investigates an important factor ...   en     [None]  "
      ]
     },
     "execution_count": 28,
     "metadata": {},
     "output_type": "execute_result"
    }
   ],
   "source": [
    "dataset.head()"
   ]
  },
  {
   "cell_type": "code",
   "execution_count": 17,
   "id": "810f6f81",
   "metadata": {},
   "outputs": [
    {
     "data": {
      "text/plain": [
       "en    19642\n",
       "es        5\n",
       "tr        4\n",
       "fr        2\n",
       "sq        2\n",
       "hu        2\n",
       "de        2\n",
       "af        1\n",
       "ca        1\n",
       "Name: lang, dtype: int64"
      ]
     },
     "execution_count": 17,
     "metadata": {},
     "output_type": "execute_result"
    }
   ],
   "source": [
    "dataset['lang'].value_counts()"
   ]
  },
  {
   "cell_type": "code",
   "execution_count": 29,
   "id": "c8d42a63",
   "metadata": {},
   "outputs": [
    {
     "ename": "TypeError",
     "evalue": "unhashable type: 'list'",
     "output_type": "error",
     "traceback": [
      "\u001b[1;31m---------------------------------------------------------------------------\u001b[0m",
      "\u001b[1;31mTypeError\u001b[0m                                 Traceback (most recent call last)",
      "\u001b[1;32mpandas\\_libs\\hashtable_class_helper.pxi\u001b[0m in \u001b[0;36mpandas._libs.hashtable.PyObjectHashTable.map_locations\u001b[1;34m()\u001b[0m\n",
      "\u001b[1;31mTypeError\u001b[0m: unhashable type: 'list'"
     ]
    },
    {
     "name": "stderr",
     "output_type": "stream",
     "text": [
      "Exception ignored in: 'pandas._libs.index.IndexEngine._call_map_locations'\n",
      "Traceback (most recent call last):\n",
      "  File \"pandas\\_libs\\hashtable_class_helper.pxi\", line 4588, in pandas._libs.hashtable.PyObjectHashTable.map_locations\n",
      "TypeError: unhashable type: 'list'\n"
     ]
    },
    {
     "data": {
      "text/plain": [
       "[None]                  13346\n",
       "[{of}]                   4014\n",
       "[{and, in}]              1163\n",
       "[{and}]                   407\n",
       "[{in}]                    223\n",
       "[{of, and}]               117\n",
       "[{for}]                   106\n",
       "[{of, and, in}]            84\n",
       "[{the, of, for}]           65\n",
       "[{of, for}]                55\n",
       "[{and, on}]                44\n",
       "[{of, on}]                 22\n",
       "[{of, and, for}]            7\n",
       "[{and, from}]               6\n",
       "[{and, for}]                1\n",
       "[{of, and, for, in}]        1\n",
       "Name: stop_words, dtype: int64"
      ]
     },
     "execution_count": 29,
     "metadata": {},
     "output_type": "execute_result"
    }
   ],
   "source": [
    "dataset['stop_words'].value_counts()"
   ]
  },
  {
   "cell_type": "code",
   "execution_count": null,
   "id": "3cd5678b",
   "metadata": {},
   "outputs": [],
   "source": []
  }
 ],
 "metadata": {
  "kernelspec": {
   "display_name": "Python 3",
   "language": "python",
   "name": "python3"
  },
  "language_info": {
   "codemirror_mode": {
    "name": "ipython",
    "version": 3
   },
   "file_extension": ".py",
   "mimetype": "text/x-python",
   "name": "python",
   "nbconvert_exporter": "python",
   "pygments_lexer": "ipython3",
   "version": "3.7.9"
  }
 },
 "nbformat": 4,
 "nbformat_minor": 5
}
