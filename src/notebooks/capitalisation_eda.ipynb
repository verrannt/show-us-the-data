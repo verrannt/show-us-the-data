{
 "cells": [
  {
   "cell_type": "markdown",
   "id": "curious-oklahoma",
   "metadata": {},
   "source": [
    "## Capitalisation EDA\n",
    "\n",
    "In this notebook, we explore the capitalisation characteristics of the dataset titles in the Coleridge dataset. From a short observation of the data, one can already see that the first datasets have titles in which all the words start with a capital. In this notebook we explore more deeply what the characteristics are, as this information might be useful in designing the NLP model"
   ]
  },
  {
   "cell_type": "markdown",
   "id": "turned-diving",
   "metadata": {},
   "source": [
    "### Data loading\n",
    "\n",
    "Lets add the project folder and import the parse scripts:"
   ]
  },
  {
   "cell_type": "code",
   "execution_count": 42,
   "id": "architectural-sweden",
   "metadata": {},
   "outputs": [],
   "source": [
    "import os, sys, inspect\n",
    "\n",
    "current_dir = os.path.dirname(os.path.abspath(inspect.getfile(inspect.currentframe())))\n",
    "parent_dir = os.path.dirname(current_dir)\n",
    "sys.path.insert(0, parent_dir) \n",
    "\n",
    "from utils import ParseUtils\n",
    "import re\n",
    "import matplotlib.pyplot as plt\n",
    "import numpy as np\n",
    "import math"
   ]
  },
  {
   "cell_type": "code",
   "execution_count": 2,
   "id": "official-guide",
   "metadata": {},
   "outputs": [],
   "source": [
    "train_df = ParseUtils.get_train_df()"
   ]
  },
  {
   "cell_type": "code",
   "execution_count": 3,
   "id": "excited-assistant",
   "metadata": {},
   "outputs": [
    {
     "data": {
      "text/html": [
       "<div>\n",
       "<style scoped>\n",
       "    .dataframe tbody tr th:only-of-type {\n",
       "        vertical-align: middle;\n",
       "    }\n",
       "\n",
       "    .dataframe tbody tr th {\n",
       "        vertical-align: top;\n",
       "    }\n",
       "\n",
       "    .dataframe thead th {\n",
       "        text-align: right;\n",
       "    }\n",
       "</style>\n",
       "<table border=\"1\" class=\"dataframe\">\n",
       "  <thead>\n",
       "    <tr style=\"text-align: right;\">\n",
       "      <th></th>\n",
       "      <th>Id</th>\n",
       "      <th>pub_title</th>\n",
       "      <th>dataset_title</th>\n",
       "      <th>dataset_label</th>\n",
       "      <th>cleaned_label</th>\n",
       "    </tr>\n",
       "  </thead>\n",
       "  <tbody>\n",
       "    <tr>\n",
       "      <th>0</th>\n",
       "      <td>d0fa7568-7d8e-4db9-870f-f9c6f668c17b</td>\n",
       "      <td>The Impact of Dual Enrollment on College Degre...</td>\n",
       "      <td>National Education Longitudinal Study</td>\n",
       "      <td>National Education Longitudinal Study</td>\n",
       "      <td>national education longitudinal study</td>\n",
       "    </tr>\n",
       "    <tr>\n",
       "      <th>1</th>\n",
       "      <td>2f26f645-3dec-485d-b68d-f013c9e05e60</td>\n",
       "      <td>Educational Attainment of High School Dropouts...</td>\n",
       "      <td>National Education Longitudinal Study</td>\n",
       "      <td>National Education Longitudinal Study</td>\n",
       "      <td>national education longitudinal study</td>\n",
       "    </tr>\n",
       "    <tr>\n",
       "      <th>2</th>\n",
       "      <td>c5d5cd2c-59de-4f29-bbb1-6a88c7b52f29</td>\n",
       "      <td>Differences in Outcomes for Female and Male St...</td>\n",
       "      <td>National Education Longitudinal Study</td>\n",
       "      <td>National Education Longitudinal Study</td>\n",
       "      <td>national education longitudinal study</td>\n",
       "    </tr>\n",
       "    <tr>\n",
       "      <th>3</th>\n",
       "      <td>5c9a3bc9-41ba-4574-ad71-e25c1442c8af</td>\n",
       "      <td>Stepping Stone and Option Value in a Model of ...</td>\n",
       "      <td>National Education Longitudinal Study</td>\n",
       "      <td>National Education Longitudinal Study</td>\n",
       "      <td>national education longitudinal study</td>\n",
       "    </tr>\n",
       "    <tr>\n",
       "      <th>4</th>\n",
       "      <td>c754dec7-c5a3-4337-9892-c02158475064</td>\n",
       "      <td>Parental Effort, School Resources, and Student...</td>\n",
       "      <td>National Education Longitudinal Study</td>\n",
       "      <td>National Education Longitudinal Study</td>\n",
       "      <td>national education longitudinal study</td>\n",
       "    </tr>\n",
       "  </tbody>\n",
       "</table>\n",
       "</div>"
      ],
      "text/plain": [
       "                                     Id  \\\n",
       "0  d0fa7568-7d8e-4db9-870f-f9c6f668c17b   \n",
       "1  2f26f645-3dec-485d-b68d-f013c9e05e60   \n",
       "2  c5d5cd2c-59de-4f29-bbb1-6a88c7b52f29   \n",
       "3  5c9a3bc9-41ba-4574-ad71-e25c1442c8af   \n",
       "4  c754dec7-c5a3-4337-9892-c02158475064   \n",
       "\n",
       "                                           pub_title  \\\n",
       "0  The Impact of Dual Enrollment on College Degre...   \n",
       "1  Educational Attainment of High School Dropouts...   \n",
       "2  Differences in Outcomes for Female and Male St...   \n",
       "3  Stepping Stone and Option Value in a Model of ...   \n",
       "4  Parental Effort, School Resources, and Student...   \n",
       "\n",
       "                           dataset_title  \\\n",
       "0  National Education Longitudinal Study   \n",
       "1  National Education Longitudinal Study   \n",
       "2  National Education Longitudinal Study   \n",
       "3  National Education Longitudinal Study   \n",
       "4  National Education Longitudinal Study   \n",
       "\n",
       "                           dataset_label  \\\n",
       "0  National Education Longitudinal Study   \n",
       "1  National Education Longitudinal Study   \n",
       "2  National Education Longitudinal Study   \n",
       "3  National Education Longitudinal Study   \n",
       "4  National Education Longitudinal Study   \n",
       "\n",
       "                           cleaned_label  \n",
       "0  national education longitudinal study  \n",
       "1  national education longitudinal study  \n",
       "2  national education longitudinal study  \n",
       "3  national education longitudinal study  \n",
       "4  national education longitudinal study  "
      ]
     },
     "execution_count": 3,
     "metadata": {},
     "output_type": "execute_result"
    }
   ],
   "source": [
    "train_df.head()"
   ]
  },
  {
   "cell_type": "markdown",
   "id": "standard-scottish",
   "metadata": {},
   "source": [
    "Having loaded the data, we can define some functions that allow us to count three simple characteristics:\n",
    "1. The total word count in the title\n",
    "2. The amount of words that starts with a capital\n",
    "3. The amount of words that is full caps"
   ]
  },
  {
   "cell_type": "code",
   "execution_count": 4,
   "id": "resident-smell",
   "metadata": {},
   "outputs": [],
   "source": [
    "def count_words(title):\n",
    "    \"\"\"\n",
    "    Counts the amount of words in the title\n",
    "    \"\"\"\n",
    "    return len(title.split(\" \"))\n",
    "\n",
    "def count_start_capital(title):\n",
    "    \"\"\"\n",
    "    Counts the amount of words of which the first letter is uppercase\n",
    "    \"\"\"\n",
    "    return sum(1 for word in title.split(\" \") if word[0].isupper())\n",
    "\n",
    "def count_full_capital(title):\n",
    "    \"\"\"\n",
    "    Counts the amount of words that are full caps (e.g. COVID-19)\n",
    "    \"\"\"\n",
    "    return sum(1 for word in title.split(\" \") if re.sub(\"r([^A-z])+\", \"\", word).isupper())"
   ]
  },
  {
   "cell_type": "markdown",
   "id": "superb-violation",
   "metadata": {},
   "source": [
    "We apply these functions to the data:"
   ]
  },
  {
   "cell_type": "code",
   "execution_count": 5,
   "id": "associate-bacon",
   "metadata": {},
   "outputs": [],
   "source": [
    "train_df[\"count_words\"] = train_df['dataset_title'].apply(count_words)\n",
    "train_df[\"count_start_capital\"] = train_df['dataset_title'].apply(count_start_capital)\n",
    "train_df[\"count_full_capital\"] = train_df['dataset_title'].apply(count_full_capital)"
   ]
  },
  {
   "cell_type": "code",
   "execution_count": 6,
   "id": "subtle-closing",
   "metadata": {
    "scrolled": false
   },
   "outputs": [
    {
     "data": {
      "text/html": [
       "<div>\n",
       "<style scoped>\n",
       "    .dataframe tbody tr th:only-of-type {\n",
       "        vertical-align: middle;\n",
       "    }\n",
       "\n",
       "    .dataframe tbody tr th {\n",
       "        vertical-align: top;\n",
       "    }\n",
       "\n",
       "    .dataframe thead th {\n",
       "        text-align: right;\n",
       "    }\n",
       "</style>\n",
       "<table border=\"1\" class=\"dataframe\">\n",
       "  <thead>\n",
       "    <tr style=\"text-align: right;\">\n",
       "      <th></th>\n",
       "      <th>Id</th>\n",
       "      <th>pub_title</th>\n",
       "      <th>dataset_title</th>\n",
       "      <th>dataset_label</th>\n",
       "      <th>cleaned_label</th>\n",
       "      <th>count_words</th>\n",
       "      <th>count_start_capital</th>\n",
       "      <th>count_full_capital</th>\n",
       "    </tr>\n",
       "  </thead>\n",
       "  <tbody>\n",
       "    <tr>\n",
       "      <th>0</th>\n",
       "      <td>d0fa7568-7d8e-4db9-870f-f9c6f668c17b</td>\n",
       "      <td>The Impact of Dual Enrollment on College Degre...</td>\n",
       "      <td>National Education Longitudinal Study</td>\n",
       "      <td>National Education Longitudinal Study</td>\n",
       "      <td>national education longitudinal study</td>\n",
       "      <td>4</td>\n",
       "      <td>4</td>\n",
       "      <td>0</td>\n",
       "    </tr>\n",
       "    <tr>\n",
       "      <th>1</th>\n",
       "      <td>2f26f645-3dec-485d-b68d-f013c9e05e60</td>\n",
       "      <td>Educational Attainment of High School Dropouts...</td>\n",
       "      <td>National Education Longitudinal Study</td>\n",
       "      <td>National Education Longitudinal Study</td>\n",
       "      <td>national education longitudinal study</td>\n",
       "      <td>4</td>\n",
       "      <td>4</td>\n",
       "      <td>0</td>\n",
       "    </tr>\n",
       "    <tr>\n",
       "      <th>2</th>\n",
       "      <td>c5d5cd2c-59de-4f29-bbb1-6a88c7b52f29</td>\n",
       "      <td>Differences in Outcomes for Female and Male St...</td>\n",
       "      <td>National Education Longitudinal Study</td>\n",
       "      <td>National Education Longitudinal Study</td>\n",
       "      <td>national education longitudinal study</td>\n",
       "      <td>4</td>\n",
       "      <td>4</td>\n",
       "      <td>0</td>\n",
       "    </tr>\n",
       "    <tr>\n",
       "      <th>3</th>\n",
       "      <td>5c9a3bc9-41ba-4574-ad71-e25c1442c8af</td>\n",
       "      <td>Stepping Stone and Option Value in a Model of ...</td>\n",
       "      <td>National Education Longitudinal Study</td>\n",
       "      <td>National Education Longitudinal Study</td>\n",
       "      <td>national education longitudinal study</td>\n",
       "      <td>4</td>\n",
       "      <td>4</td>\n",
       "      <td>0</td>\n",
       "    </tr>\n",
       "    <tr>\n",
       "      <th>4</th>\n",
       "      <td>c754dec7-c5a3-4337-9892-c02158475064</td>\n",
       "      <td>Parental Effort, School Resources, and Student...</td>\n",
       "      <td>National Education Longitudinal Study</td>\n",
       "      <td>National Education Longitudinal Study</td>\n",
       "      <td>national education longitudinal study</td>\n",
       "      <td>4</td>\n",
       "      <td>4</td>\n",
       "      <td>0</td>\n",
       "    </tr>\n",
       "  </tbody>\n",
       "</table>\n",
       "</div>"
      ],
      "text/plain": [
       "                                     Id  \\\n",
       "0  d0fa7568-7d8e-4db9-870f-f9c6f668c17b   \n",
       "1  2f26f645-3dec-485d-b68d-f013c9e05e60   \n",
       "2  c5d5cd2c-59de-4f29-bbb1-6a88c7b52f29   \n",
       "3  5c9a3bc9-41ba-4574-ad71-e25c1442c8af   \n",
       "4  c754dec7-c5a3-4337-9892-c02158475064   \n",
       "\n",
       "                                           pub_title  \\\n",
       "0  The Impact of Dual Enrollment on College Degre...   \n",
       "1  Educational Attainment of High School Dropouts...   \n",
       "2  Differences in Outcomes for Female and Male St...   \n",
       "3  Stepping Stone and Option Value in a Model of ...   \n",
       "4  Parental Effort, School Resources, and Student...   \n",
       "\n",
       "                           dataset_title  \\\n",
       "0  National Education Longitudinal Study   \n",
       "1  National Education Longitudinal Study   \n",
       "2  National Education Longitudinal Study   \n",
       "3  National Education Longitudinal Study   \n",
       "4  National Education Longitudinal Study   \n",
       "\n",
       "                           dataset_label  \\\n",
       "0  National Education Longitudinal Study   \n",
       "1  National Education Longitudinal Study   \n",
       "2  National Education Longitudinal Study   \n",
       "3  National Education Longitudinal Study   \n",
       "4  National Education Longitudinal Study   \n",
       "\n",
       "                           cleaned_label  count_words  count_start_capital  \\\n",
       "0  national education longitudinal study            4                    4   \n",
       "1  national education longitudinal study            4                    4   \n",
       "2  national education longitudinal study            4                    4   \n",
       "3  national education longitudinal study            4                    4   \n",
       "4  national education longitudinal study            4                    4   \n",
       "\n",
       "   count_full_capital  \n",
       "0                   0  \n",
       "1                   0  \n",
       "2                   0  \n",
       "3                   0  \n",
       "4                   0  "
      ]
     },
     "execution_count": 6,
     "metadata": {},
     "output_type": "execute_result"
    }
   ],
   "source": [
    "train_df.head()"
   ]
  },
  {
   "cell_type": "code",
   "execution_count": 104,
   "id": "sustainable-white",
   "metadata": {},
   "outputs": [
    {
     "name": "stdout",
     "output_type": "stream",
     "text": [
      "<class 'pandas.core.frame.DataFrame'>\n",
      "RangeIndex: 19661 entries, 0 to 19660\n",
      "Data columns (total 11 columns):\n",
      " #   Column                     Non-Null Count  Dtype \n",
      "---  ------                     --------------  ----- \n",
      " 0   Id                         19661 non-null  object\n",
      " 1   pub_title                  19661 non-null  object\n",
      " 2   dataset_title              19661 non-null  object\n",
      " 3   dataset_label              19661 non-null  object\n",
      " 4   cleaned_label              19661 non-null  object\n",
      " 5   count_words                19661 non-null  int64 \n",
      " 6   count_start_capital        19661 non-null  int64 \n",
      " 7   count_full_capital         19661 non-null  int64 \n",
      " 8   text                       19661 non-null  object\n",
      " 9   title_mention_count        19661 non-null  int64 \n",
      " 10  title_mention_count_clean  19661 non-null  int64 \n",
      "dtypes: int64(5), object(6)\n",
      "memory usage: 1.7+ MB\n"
     ]
    }
   ],
   "source": [
    "train_df.info()"
   ]
  },
  {
   "cell_type": "code",
   "execution_count": 51,
   "id": "valuable-rebate",
   "metadata": {},
   "outputs": [],
   "source": [
    "def count_statistics(data, title, whole_counts=True):\n",
    "    if whole_counts:\n",
    "        plt.hist(data, bins=np.arange(-0.5, max(data) + 0.5, 1))\n",
    "        plt.xticks(range(0, max(data)))\n",
    "    else:\n",
    "        plt.hist(data)\n",
    "    plt.title(title)\n",
    "    print(\"--\"+title+\"--\")\n",
    "    print(\"Mean\", np.mean(data))\n",
    "    print(\"Median\", np.median(data))\n",
    "    print(\"Std\", np.std(data))"
   ]
  },
  {
   "cell_type": "code",
   "execution_count": 52,
   "id": "south-national",
   "metadata": {},
   "outputs": [
    {
     "name": "stdout",
     "output_type": "stream",
     "text": [
      "--Words in title--\n",
      "Mean 4.734499771120492\n",
      "Median 5.0\n",
      "Std 1.3286559856890183\n"
     ]
    },
    {
     "data": {
      "image/png": "[encoded data removed]",
      "text/plain": [
       "<Figure size 432x288 with 1 Axes>"
      ]
     },
     "metadata": {
      "needs_background": "light"
     },
     "output_type": "display_data"
    }
   ],
   "source": [
    "count_statistics(train_df[\"count_words\"], \"Words in title\")"
   ]
  },
  {
   "cell_type": "code",
   "execution_count": 53,
   "id": "fiscal-synthetic",
   "metadata": {},
   "outputs": [
    {
     "name": "stdout",
     "output_type": "stream",
     "text": [
      "Fraction of titles between 3 and 7 words in length: 0.98896292151976\n"
     ]
    }
   ],
   "source": [
    "count_words_array = np.array(train_df[\"count_words\"])\n",
    "\n",
    "print(\"Fraction of titles between 3 and 7 words in length: \"+str(len(count_words_array[3 <= count_words_array][count_words_array <= 7])/len(train_df[\"count_words\"])))"
   ]
  },
  {
   "cell_type": "code",
   "execution_count": 54,
   "id": "inside-quebec",
   "metadata": {},
   "outputs": [
    {
     "name": "stdout",
     "output_type": "stream",
     "text": [
      "--Words in title that start with a capital--\n",
      "Mean 3.763440313310615\n",
      "Median 4.0\n",
      "Std 1.0118257298185773\n"
     ]
    },
    {
     "data": {
      "image/png": "[encoded data removed]",
      "text/plain": [
       "<Figure size 432x288 with 1 Axes>"
      ]
     },
     "metadata": {
      "needs_background": "light"
     },
     "output_type": "display_data"
    }
   ],
   "source": [
    "count_statistics(train_df[\"count_start_capital\"], \"Words in title that start with a capital\")"
   ]
  },
  {
   "cell_type": "code",
   "execution_count": 55,
   "id": "utility-adapter",
   "metadata": {},
   "outputs": [
    {
     "name": "stdout",
     "output_type": "stream",
     "text": [
      "--Fraction of words in title that start with a capital--\n",
      "Mean 0.8045605823401968\n",
      "Median 0.8\n",
      "Std 0.15584347376388522\n"
     ]
    },
    {
     "data": {
      "image/png": "[encoded data removed]",
      "text/plain": [
       "<Figure size 432x288 with 1 Axes>"
      ]
     },
     "metadata": {
      "needs_background": "light"
     },
     "output_type": "display_data"
    }
   ],
   "source": [
    "count_statistics(train_df[\"count_start_capital\"] / train_df[\"count_words\"], \"Fraction of words in title that start with a capital\", whole_counts=False)"
   ]
  },
  {
   "cell_type": "code",
   "execution_count": 19,
   "id": "later-hostel",
   "metadata": {},
   "outputs": [
    {
     "name": "stdout",
     "output_type": "stream",
     "text": [
      "--Words in tital that are full-caps--\n",
      "Mean 0.48476679721275623\n",
      "Median 0.0\n",
      "Std 0.5215798643971711\n"
     ]
    },
    {
     "data": {
      "image/png": "[encoded data removed]",
      "text/plain": [
       "<Figure size 432x288 with 1 Axes>"
      ]
     },
     "metadata": {
      "needs_background": "light"
     },
     "output_type": "display_data"
    }
   ],
   "source": [
    "count_statistics(train_df[\"count_full_capital\"], \"Words in tital that are full-caps\")"
   ]
  },
  {
   "cell_type": "code",
   "execution_count": 56,
   "id": "mature-paragraph",
   "metadata": {},
   "outputs": [
    {
     "name": "stdout",
     "output_type": "stream",
     "text": [
      "--Fraction of words in title that are full-caps--\n",
      "Mean 0.09570916385040794\n",
      "Median 0.0\n",
      "Std 0.10560524550003372\n"
     ]
    },
    {
     "data": {
      "image/png": "[encoded data removed]",
      "text/plain": [
       "<Figure size 432x288 with 1 Axes>"
      ]
     },
     "metadata": {
      "needs_background": "light"
     },
     "output_type": "display_data"
    }
   ],
   "source": [
    "count_statistics(train_df[\"count_full_capital\"] / train_df[\"count_words\"], \"Fraction of words in title that are full-caps\", whole_counts=False)"
   ]
  },
  {
   "cell_type": "markdown",
   "id": "dried-beatles",
   "metadata": {},
   "source": [
    "## Observations\n",
    "\n",
    "We find the following:\n",
    "1. The title length of the datasets is centered around 5 words, with a standard deviation of 1.32. 98.9% of all titles have a length between 3 and 7 words\n",
    "2. The amount of words in the title that have a leading capital is centered around 4, with a standard deviation of 1.01. We find that on average, 80% (or 4 out of 5) of the words in the title have a leading capital letter.\n",
    "3. About half of the titles contain a full-caps word.\n",
    "\n",
    "Thus, we find that a lot of titles contain capitalized words, both leading capitals and full-caps words."
   ]
  },
  {
   "cell_type": "markdown",
   "id": "handed-facility",
   "metadata": {},
   "source": [
    "If we want to leverage this data, we need to make sure that the text provided in the data actually respects this capitalisation. Lets check this:"
   ]
  },
  {
   "cell_type": "code",
   "execution_count": 57,
   "id": "black-polish",
   "metadata": {},
   "outputs": [],
   "source": [
    "train_df['text'] = train_df['Id'].apply(ParseUtils.read_append_return)"
   ]
  },
  {
   "cell_type": "code",
   "execution_count": 58,
   "id": "labeled-mumbai",
   "metadata": {},
   "outputs": [
    {
     "data": {
      "text/html": [
       "<div>\n",
       "<style scoped>\n",
       "    .dataframe tbody tr th:only-of-type {\n",
       "        vertical-align: middle;\n",
       "    }\n",
       "\n",
       "    .dataframe tbody tr th {\n",
       "        vertical-align: top;\n",
       "    }\n",
       "\n",
       "    .dataframe thead th {\n",
       "        text-align: right;\n",
       "    }\n",
       "</style>\n",
       "<table border=\"1\" class=\"dataframe\">\n",
       "  <thead>\n",
       "    <tr style=\"text-align: right;\">\n",
       "      <th></th>\n",
       "      <th>Id</th>\n",
       "      <th>pub_title</th>\n",
       "      <th>dataset_title</th>\n",
       "      <th>dataset_label</th>\n",
       "      <th>cleaned_label</th>\n",
       "      <th>count_words</th>\n",
       "      <th>count_start_capital</th>\n",
       "      <th>count_full_capital</th>\n",
       "      <th>text</th>\n",
       "    </tr>\n",
       "  </thead>\n",
       "  <tbody>\n",
       "    <tr>\n",
       "      <th>0</th>\n",
       "      <td>d0fa7568-7d8e-4db9-870f-f9c6f668c17b</td>\n",
       "      <td>The Impact of Dual Enrollment on College Degre...</td>\n",
       "      <td>National Education Longitudinal Study</td>\n",
       "      <td>National Education Longitudinal Study</td>\n",
       "      <td>national education longitudinal study</td>\n",
       "      <td>4</td>\n",
       "      <td>4</td>\n",
       "      <td>0</td>\n",
       "      <td>This study used data from the National Educati...</td>\n",
       "    </tr>\n",
       "    <tr>\n",
       "      <th>1</th>\n",
       "      <td>2f26f645-3dec-485d-b68d-f013c9e05e60</td>\n",
       "      <td>Educational Attainment of High School Dropouts...</td>\n",
       "      <td>National Education Longitudinal Study</td>\n",
       "      <td>National Education Longitudinal Study</td>\n",
       "      <td>national education longitudinal study</td>\n",
       "      <td>4</td>\n",
       "      <td>4</td>\n",
       "      <td>0</td>\n",
       "      <td>Dropping out of high school is not necessarily...</td>\n",
       "    </tr>\n",
       "    <tr>\n",
       "      <th>2</th>\n",
       "      <td>c5d5cd2c-59de-4f29-bbb1-6a88c7b52f29</td>\n",
       "      <td>Differences in Outcomes for Female and Male St...</td>\n",
       "      <td>National Education Longitudinal Study</td>\n",
       "      <td>National Education Longitudinal Study</td>\n",
       "      <td>national education longitudinal study</td>\n",
       "      <td>4</td>\n",
       "      <td>4</td>\n",
       "      <td>0</td>\n",
       "      <td>, stress satisfactory outcomes for all youth,...</td>\n",
       "    </tr>\n",
       "    <tr>\n",
       "      <th>3</th>\n",
       "      <td>5c9a3bc9-41ba-4574-ad71-e25c1442c8af</td>\n",
       "      <td>Stepping Stone and Option Value in a Model of ...</td>\n",
       "      <td>National Education Longitudinal Study</td>\n",
       "      <td>National Education Longitudinal Study</td>\n",
       "      <td>national education longitudinal study</td>\n",
       "      <td>4</td>\n",
       "      <td>4</td>\n",
       "      <td>0</td>\n",
       "      <td>Federal Reserve Bank of Richmond S1. Accountin...</td>\n",
       "    </tr>\n",
       "    <tr>\n",
       "      <th>4</th>\n",
       "      <td>c754dec7-c5a3-4337-9892-c02158475064</td>\n",
       "      <td>Parental Effort, School Resources, and Student...</td>\n",
       "      <td>National Education Longitudinal Study</td>\n",
       "      <td>National Education Longitudinal Study</td>\n",
       "      <td>national education longitudinal study</td>\n",
       "      <td>4</td>\n",
       "      <td>4</td>\n",
       "      <td>0</td>\n",
       "      <td>This article investigates an important factor ...</td>\n",
       "    </tr>\n",
       "  </tbody>\n",
       "</table>\n",
       "</div>"
      ],
      "text/plain": [
       "                                     Id  \\\n",
       "0  d0fa7568-7d8e-4db9-870f-f9c6f668c17b   \n",
       "1  2f26f645-3dec-485d-b68d-f013c9e05e60   \n",
       "2  c5d5cd2c-59de-4f29-bbb1-6a88c7b52f29   \n",
       "3  5c9a3bc9-41ba-4574-ad71-e25c1442c8af   \n",
       "4  c754dec7-c5a3-4337-9892-c02158475064   \n",
       "\n",
       "                                           pub_title  \\\n",
       "0  The Impact of Dual Enrollment on College Degre...   \n",
       "1  Educational Attainment of High School Dropouts...   \n",
       "2  Differences in Outcomes for Female and Male St...   \n",
       "3  Stepping Stone and Option Value in a Model of ...   \n",
       "4  Parental Effort, School Resources, and Student...   \n",
       "\n",
       "                           dataset_title  \\\n",
       "0  National Education Longitudinal Study   \n",
       "1  National Education Longitudinal Study   \n",
       "2  National Education Longitudinal Study   \n",
       "3  National Education Longitudinal Study   \n",
       "4  National Education Longitudinal Study   \n",
       "\n",
       "                           dataset_label  \\\n",
       "0  National Education Longitudinal Study   \n",
       "1  National Education Longitudinal Study   \n",
       "2  National Education Longitudinal Study   \n",
       "3  National Education Longitudinal Study   \n",
       "4  National Education Longitudinal Study   \n",
       "\n",
       "                           cleaned_label  count_words  count_start_capital  \\\n",
       "0  national education longitudinal study            4                    4   \n",
       "1  national education longitudinal study            4                    4   \n",
       "2  national education longitudinal study            4                    4   \n",
       "3  national education longitudinal study            4                    4   \n",
       "4  national education longitudinal study            4                    4   \n",
       "\n",
       "   count_full_capital                                               text  \n",
       "0                   0  This study used data from the National Educati...  \n",
       "1                   0  Dropping out of high school is not necessarily...  \n",
       "2                   0   , stress satisfactory outcomes for all youth,...  \n",
       "3                   0  Federal Reserve Bank of Richmond S1. Accountin...  \n",
       "4                   0  This article investigates an important factor ...  "
      ]
     },
     "execution_count": 58,
     "metadata": {},
     "output_type": "execute_result"
    }
   ],
   "source": [
    "train_df.head()"
   ]
  },
  {
   "cell_type": "markdown",
   "id": "reduced-offering",
   "metadata": {},
   "source": [
    "Now we just Ctrl-F the title and see if it is contained one-on-one in the text:"
   ]
  },
  {
   "cell_type": "code",
   "execution_count": 67,
   "id": "backed-appraisal",
   "metadata": {},
   "outputs": [],
   "source": [
    "def mention_count(dataset):\n",
    "    return dataset['text'].count(dataset['dataset_title'])\n",
    "\n",
    "train_df[\"title_mention_count\"] = train_df.apply(lambda data: data['text'].count(data['dataset_title']), axis=1)"
   ]
  },
  {
   "cell_type": "code",
   "execution_count": 101,
   "id": "cultural-mechanism",
   "metadata": {},
   "outputs": [
    {
     "name": "stdout",
     "output_type": "stream",
     "text": [
      "Top 30 highest counts:\n"
     ]
    },
    {
     "data": {
      "text/plain": [
       "[300,\n",
       " 275,\n",
       " 57,\n",
       " 57,\n",
       " 54,\n",
       " 52,\n",
       " 52,\n",
       " 52,\n",
       " 48,\n",
       " 47,\n",
       " 45,\n",
       " 44,\n",
       " 43,\n",
       " 43,\n",
       " 39,\n",
       " 39,\n",
       " 38,\n",
       " 37,\n",
       " 35,\n",
       " 33,\n",
       " 33,\n",
       " 32,\n",
       " 30,\n",
       " 30,\n",
       " 30,\n",
       " 29,\n",
       " 29,\n",
       " 28,\n",
       " 28,\n",
       " 28]"
      ]
     },
     "execution_count": 101,
     "metadata": {},
     "output_type": "execute_result"
    }
   ],
   "source": [
    "sort_list = list(train_df[\"title_mention_count\"])\n",
    "sort_list.sort()\n",
    "print(\"Top 30 highest counts:\")\n",
    "sort_list[::-1][:30]"
   ]
  },
  {
   "cell_type": "code",
   "execution_count": 102,
   "id": "engaging-peoples",
   "metadata": {},
   "outputs": [
    {
     "name": "stdout",
     "output_type": "stream",
     "text": [
      "--Title mention amount in text--\n",
      "Mean 1.198460047932283\n",
      "Median 1.0\n",
      "Std 1.5195359557618133\n"
     ]
    },
    {
     "data": {
      "image/png": "[encoded data removed]",
      "text/plain": [
       "<Figure size 432x288 with 1 Axes>"
      ]
     },
     "metadata": {
      "needs_background": "light"
     },
     "output_type": "display_data"
    }
   ],
   "source": [
    "count_statistics(train_df[\"title_mention_count\"][train_df[\"title_mention_count\"] < 20], \"Title mention amount in text\")"
   ]
  },
  {
   "cell_type": "code",
   "execution_count": 90,
   "id": "stunning-prairie",
   "metadata": {},
   "outputs": [],
   "source": [
    "train_df[\"title_mention_count_clean\"] = train_df.apply(lambda data: data['text'].count(data['cleaned_label']), axis=1)"
   ]
  },
  {
   "cell_type": "code",
   "execution_count": 103,
   "id": "forbidden-architect",
   "metadata": {},
   "outputs": [
    {
     "name": "stdout",
     "output_type": "stream",
     "text": [
      "--Cleaned label mention count in text--\n",
      "Mean 0.2185622645351797\n",
      "Median 0.0\n",
      "Std 0.8726784466414802\n"
     ]
    },
    {
     "data": {
      "image/png": "[encoded data removed]",
      "text/plain": [
       "<Figure size 432x288 with 1 Axes>"
      ]
     },
     "metadata": {
      "needs_background": "light"
     },
     "output_type": "display_data"
    }
   ],
   "source": [
    "count_statistics(train_df[\"title_mention_count_clean\"][train_df[\"title_mention_count_clean\"] < 20], \"Cleaned label mention count in text\")"
   ]
  },
  {
   "cell_type": "markdown",
   "id": "major-cleaner",
   "metadata": {},
   "source": [
    "## Observations\n",
    "\n",
    "We note the following\n",
    "1. **Quite some texts contain a lot of mentions (top 30 ranges from 300-30 mentions), even though the distribution is much more skewed towards 0-1-2.**\n",
    "2. **We find that roughly 1 out of 4 texts do not mention the dataset title one-on-one. Is this a problem with the count code, or do they simply not correspond?**\n",
    "3. Cleaned labels seem to generally not occur in text, so likely, the text was not cleaned in the same way (or in a way that breaks the capitalisation)."
   ]
  },
  {
   "cell_type": "code",
   "execution_count": null,
   "id": "human-drilling",
   "metadata": {},
   "outputs": [],
   "source": []
  }
 ],
 "metadata": {
  "kernelspec": {
   "display_name": "Python 3",
   "language": "python",
   "name": "python3"
  },
  "language_info": {
   "codemirror_mode": {
    "name": "ipython",
    "version": 3
   },
   "file_extension": ".py",
   "mimetype": "text/x-python",
   "name": "python",
   "nbconvert_exporter": "python",
   "pygments_lexer": "ipython3",
   "version": "3.8.5"
  }
 },
 "nbformat": 4,
 "nbformat_minor": 5
}
