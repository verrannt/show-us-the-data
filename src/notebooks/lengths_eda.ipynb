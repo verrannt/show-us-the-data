{
 "cells": [
  {
   "cell_type": "markdown",
   "id": "utility-mystery",
   "metadata": {},
   "source": [
    "## Length EDA\n",
    "\n",
    "As result of some interesting findings in `capitalisation_eda.ipynb`, I decided to take a short look at the lengths of the texts.\n",
    "\n",
    "### Summary\n",
    "1. 95.4% has a their number of words between 0 and 20'000, and 99.2% below 70'000. The other 0.8% lies in a tail that exteds up to 1'790'898 words.\n",
    "2. The biggest file is very big (10.8 mb of text).\n",
    "    \n",
    "In other words, we have a few very long entries (likely books) that are a very small part of the dataset. It might be worth to exclude these as they might have different characteristics from the papers and might take up a lot of training time."
   ]
  },
  {
   "cell_type": "code",
   "execution_count": 1,
   "id": "biblical-small",
   "metadata": {},
   "outputs": [],
   "source": [
    "import os, sys, inspect\n",
    "\n",
    "current_dir = os.path.dirname(os.path.abspath(inspect.getfile(inspect.currentframe())))\n",
    "parent_dir = os.path.dirname(current_dir)\n",
    "sys.path.insert(0, parent_dir) \n",
    "\n",
    "from utils import ParseUtils\n",
    "import re\n",
    "import matplotlib.pyplot as plt\n",
    "import numpy as np\n",
    "import math"
   ]
  },
  {
   "cell_type": "code",
   "execution_count": 2,
   "id": "optical-investment",
   "metadata": {},
   "outputs": [],
   "source": [
    "train_df = ParseUtils.get_train_df()"
   ]
  },
  {
   "cell_type": "code",
   "execution_count": 3,
   "id": "lightweight-explanation",
   "metadata": {},
   "outputs": [
    {
     "data": {
      "text/html": [
       "<div>\n",
       "<style scoped>\n",
       "    .dataframe tbody tr th:only-of-type {\n",
       "        vertical-align: middle;\n",
       "    }\n",
       "\n",
       "    .dataframe tbody tr th {\n",
       "        vertical-align: top;\n",
       "    }\n",
       "\n",
       "    .dataframe thead th {\n",
       "        text-align: right;\n",
       "    }\n",
       "</style>\n",
       "<table border=\"1\" class=\"dataframe\">\n",
       "  <thead>\n",
       "    <tr style=\"text-align: right;\">\n",
       "      <th></th>\n",
       "      <th>Id</th>\n",
       "      <th>pub_title</th>\n",
       "      <th>dataset_title</th>\n",
       "      <th>dataset_label</th>\n",
       "      <th>cleaned_label</th>\n",
       "    </tr>\n",
       "  </thead>\n",
       "  <tbody>\n",
       "    <tr>\n",
       "      <th>0</th>\n",
       "      <td>d0fa7568-7d8e-4db9-870f-f9c6f668c17b</td>\n",
       "      <td>The Impact of Dual Enrollment on College Degre...</td>\n",
       "      <td>National Education Longitudinal Study</td>\n",
       "      <td>National Education Longitudinal Study</td>\n",
       "      <td>national education longitudinal study</td>\n",
       "    </tr>\n",
       "    <tr>\n",
       "      <th>1</th>\n",
       "      <td>2f26f645-3dec-485d-b68d-f013c9e05e60</td>\n",
       "      <td>Educational Attainment of High School Dropouts...</td>\n",
       "      <td>National Education Longitudinal Study</td>\n",
       "      <td>National Education Longitudinal Study</td>\n",
       "      <td>national education longitudinal study</td>\n",
       "    </tr>\n",
       "    <tr>\n",
       "      <th>2</th>\n",
       "      <td>c5d5cd2c-59de-4f29-bbb1-6a88c7b52f29</td>\n",
       "      <td>Differences in Outcomes for Female and Male St...</td>\n",
       "      <td>National Education Longitudinal Study</td>\n",
       "      <td>National Education Longitudinal Study</td>\n",
       "      <td>national education longitudinal study</td>\n",
       "    </tr>\n",
       "    <tr>\n",
       "      <th>3</th>\n",
       "      <td>5c9a3bc9-41ba-4574-ad71-e25c1442c8af</td>\n",
       "      <td>Stepping Stone and Option Value in a Model of ...</td>\n",
       "      <td>National Education Longitudinal Study</td>\n",
       "      <td>National Education Longitudinal Study</td>\n",
       "      <td>national education longitudinal study</td>\n",
       "    </tr>\n",
       "    <tr>\n",
       "      <th>4</th>\n",
       "      <td>c754dec7-c5a3-4337-9892-c02158475064</td>\n",
       "      <td>Parental Effort, School Resources, and Student...</td>\n",
       "      <td>National Education Longitudinal Study</td>\n",
       "      <td>National Education Longitudinal Study</td>\n",
       "      <td>national education longitudinal study</td>\n",
       "    </tr>\n",
       "  </tbody>\n",
       "</table>\n",
       "</div>"
      ],
      "text/plain": [
       "                                     Id  \\\n",
       "0  d0fa7568-7d8e-4db9-870f-f9c6f668c17b   \n",
       "1  2f26f645-3dec-485d-b68d-f013c9e05e60   \n",
       "2  c5d5cd2c-59de-4f29-bbb1-6a88c7b52f29   \n",
       "3  5c9a3bc9-41ba-4574-ad71-e25c1442c8af   \n",
       "4  c754dec7-c5a3-4337-9892-c02158475064   \n",
       "\n",
       "                                           pub_title  \\\n",
       "0  The Impact of Dual Enrollment on College Degre...   \n",
       "1  Educational Attainment of High School Dropouts...   \n",
       "2  Differences in Outcomes for Female and Male St...   \n",
       "3  Stepping Stone and Option Value in a Model of ...   \n",
       "4  Parental Effort, School Resources, and Student...   \n",
       "\n",
       "                           dataset_title  \\\n",
       "0  National Education Longitudinal Study   \n",
       "1  National Education Longitudinal Study   \n",
       "2  National Education Longitudinal Study   \n",
       "3  National Education Longitudinal Study   \n",
       "4  National Education Longitudinal Study   \n",
       "\n",
       "                           dataset_label  \\\n",
       "0  National Education Longitudinal Study   \n",
       "1  National Education Longitudinal Study   \n",
       "2  National Education Longitudinal Study   \n",
       "3  National Education Longitudinal Study   \n",
       "4  National Education Longitudinal Study   \n",
       "\n",
       "                           cleaned_label  \n",
       "0  national education longitudinal study  \n",
       "1  national education longitudinal study  \n",
       "2  national education longitudinal study  \n",
       "3  national education longitudinal study  \n",
       "4  national education longitudinal study  "
      ]
     },
     "execution_count": 3,
     "metadata": {},
     "output_type": "execute_result"
    }
   ],
   "source": [
    "train_df.head()"
   ]
  },
  {
   "cell_type": "code",
   "execution_count": 4,
   "id": "incomplete-siemens",
   "metadata": {},
   "outputs": [],
   "source": [
    "train_df['text'] = train_df['Id'].apply(ParseUtils.read_append_return)"
   ]
  },
  {
   "cell_type": "code",
   "execution_count": 9,
   "id": "offensive-cancer",
   "metadata": {},
   "outputs": [],
   "source": [
    "from nltk.tokenize import RegexpTokenizer\n",
    "tokenizer = RegexpTokenizer(r'\\w+')\n",
    "\n",
    "def count_words(text):\n",
    "    return len(tokenizer.tokenize(text))"
   ]
  },
  {
   "cell_type": "code",
   "execution_count": 10,
   "id": "decimal-sacramento",
   "metadata": {},
   "outputs": [],
   "source": [
    "train_df['text_word_count'] = train_df['text'].apply(count_words)"
   ]
  },
  {
   "cell_type": "code",
   "execution_count": 16,
   "id": "bacterial-protein",
   "metadata": {},
   "outputs": [],
   "source": [
    "def count_statistics(data, title, bins):\n",
    "    plt.hist(data, bins)\n",
    "    plt.title(title)\n",
    "    print(\"--\"+title+\"--\")\n",
    "    print(\"Mean\", np.mean(data))\n",
    "    print(\"Median\", np.median(data))\n",
    "    print(\"Std\", np.std(data))"
   ]
  },
  {
   "cell_type": "code",
   "execution_count": 17,
   "id": "seasonal-scientist",
   "metadata": {},
   "outputs": [
    {
     "name": "stdout",
     "output_type": "stream",
     "text": [
      "--Word count in texts--\n",
      "Mean 8740.314582167743\n",
      "Median 5269.0\n",
      "Std 28737.03087640476\n"
     ]
    },
    {
     "data": {
      "image/png": "[encoded data removed]",
      "text/plain": [
       "<Figure size 432x288 with 1 Axes>"
      ]
     },
     "metadata": {
      "needs_background": "light"
     },
     "output_type": "display_data"
    }
   ],
   "source": [
    "count_statistics(train_df['text_word_count'], \"Word count in texts\", bins=50)"
   ]
  },
  {
   "cell_type": "code",
   "execution_count": 18,
   "id": "important-cooper",
   "metadata": {},
   "outputs": [
    {
     "name": "stdout",
     "output_type": "stream",
     "text": [
      "--Word count in texts--\n",
      "Mean 8462.811285234558\n",
      "Median 5268.5\n",
      "Std 23351.542286569547\n"
     ]
    },
    {
     "data": {
      "image/png": "[encoded data removed]",
      "text/plain": [
       "<Figure size 432x288 with 1 Axes>"
      ]
     },
     "metadata": {
      "needs_background": "light"
     },
     "output_type": "display_data"
    }
   ],
   "source": [
    "count_statistics(train_df['text_word_count'][train_df['text_word_count'] < 500000], \"Word count in texts\", bins=50)"
   ]
  },
  {
   "cell_type": "code",
   "execution_count": 19,
   "id": "under-radio",
   "metadata": {},
   "outputs": [
    {
     "name": "stdout",
     "output_type": "stream",
     "text": [
      "--Word count in texts--\n",
      "Mean 6826.893897435897\n",
      "Median 5243.0\n",
      "Std 6697.829555806842\n"
     ]
    },
    {
     "data": {
      "image/png": "[encoded data removed]",
      "text/plain": [
       "<Figure size 432x288 with 1 Axes>"
      ]
     },
     "metadata": {
      "needs_background": "light"
     },
     "output_type": "display_data"
    }
   ],
   "source": [
    "count_statistics(train_df['text_word_count'][train_df['text_word_count'] < 70000], \"Word count in texts\", bins=50)"
   ]
  },
  {
   "cell_type": "code",
   "execution_count": 20,
   "id": "surprising-metadata",
   "metadata": {},
   "outputs": [
    {
     "data": {
      "text/plain": [
       "0.9541732363562382"
      ]
     },
     "execution_count": 20,
     "metadata": {},
     "output_type": "execute_result"
    }
   ],
   "source": [
    "len(train_df['text_word_count'][train_df['text_word_count'] < 20000])/len(train_df)"
   ]
  },
  {
   "cell_type": "code",
   "execution_count": 22,
   "id": "partial-zambia",
   "metadata": {},
   "outputs": [
    {
     "data": {
      "text/plain": [
       "0.9918111998372412"
      ]
     },
     "execution_count": 22,
     "metadata": {},
     "output_type": "execute_result"
    }
   ],
   "source": [
    "len(train_df['text_word_count'][train_df['text_word_count'] < 70000])/len(train_df)"
   ]
  },
  {
   "cell_type": "code",
   "execution_count": 21,
   "id": "green-difference",
   "metadata": {},
   "outputs": [
    {
     "data": {
      "text/plain": [
       "1790897"
      ]
     },
     "execution_count": 21,
     "metadata": {},
     "output_type": "execute_result"
    }
   ],
   "source": [
    "max(train_df['text_word_count'])"
   ]
  },
  {
   "cell_type": "code",
   "execution_count": 34,
   "id": "mature-buffalo",
   "metadata": {},
   "outputs": [
    {
     "data": {
      "text/html": [
       "<div>\n",
       "<style scoped>\n",
       "    .dataframe tbody tr th:only-of-type {\n",
       "        vertical-align: middle;\n",
       "    }\n",
       "\n",
       "    .dataframe tbody tr th {\n",
       "        vertical-align: top;\n",
       "    }\n",
       "\n",
       "    .dataframe thead th {\n",
       "        text-align: right;\n",
       "    }\n",
       "</style>\n",
       "<table border=\"1\" class=\"dataframe\">\n",
       "  <thead>\n",
       "    <tr style=\"text-align: right;\">\n",
       "      <th></th>\n",
       "      <th>Id</th>\n",
       "      <th>pub_title</th>\n",
       "      <th>dataset_title</th>\n",
       "      <th>dataset_label</th>\n",
       "      <th>cleaned_label</th>\n",
       "      <th>text</th>\n",
       "      <th>text_word_count</th>\n",
       "    </tr>\n",
       "  </thead>\n",
       "  <tbody>\n",
       "    <tr>\n",
       "      <th>15752</th>\n",
       "      <td>c12a3ad2-17bc-4b8b-8779-77ba2680ae96</td>\n",
       "      <td>2013 Annual Meeting Abstract Supplement</td>\n",
       "      <td>Rural-Urban Continuum Codes</td>\n",
       "      <td>Rural-Urban Continuum Codes</td>\n",
       "      <td>rural urban continuum codes</td>\n",
       "      <td>AN OFFICIAL JOURNAL OF THE AMERICAN COLLEGE OF...</td>\n",
       "      <td>1790897</td>\n",
       "    </tr>\n",
       "  </tbody>\n",
       "</table>\n",
       "</div>"
      ],
      "text/plain": [
       "                                         Id  \\\n",
       "15752  c12a3ad2-17bc-4b8b-8779-77ba2680ae96   \n",
       "\n",
       "                                     pub_title                dataset_title  \\\n",
       "15752  2013 Annual Meeting Abstract Supplement  Rural-Urban Continuum Codes   \n",
       "\n",
       "                     dataset_label                cleaned_label  \\\n",
       "15752  Rural-Urban Continuum Codes  rural urban continuum codes   \n",
       "\n",
       "                                                    text  text_word_count  \n",
       "15752  AN OFFICIAL JOURNAL OF THE AMERICAN COLLEGE OF...          1790897  "
      ]
     },
     "execution_count": 34,
     "metadata": {},
     "output_type": "execute_result"
    }
   ],
   "source": [
    "subject = train_df.loc[train_df['text_word_count'] == max(train_df['text_word_count'])]\n",
    "subject"
   ]
  },
  {
   "cell_type": "markdown",
   "id": "revolutionary-charity",
   "metadata": {},
   "source": [
    "## Observations\n",
    "\n",
    "1. 95.4% has a their number of words between 0 and 20'000, and 99.2% below 70'000. The other 0.8% lies in a tail that exteds up to 1'790'898 words.\n",
    "\n",
    "2. The biggest file is very big (10.8 mb of text)"
   ]
  },
  {
   "cell_type": "code",
   "execution_count": null,
   "id": "eight-magnitude",
   "metadata": {},
   "outputs": [],
   "source": []
  }
 ],
 "metadata": {
  "kernelspec": {
   "display_name": "Python 3",
   "language": "python",
   "name": "python3"
  },
  "language_info": {
   "codemirror_mode": {
    "name": "ipython",
    "version": 3
   },
   "file_extension": ".py",
   "mimetype": "text/x-python",
   "name": "python",
   "nbconvert_exporter": "python",
   "pygments_lexer": "ipython3",
   "version": "3.8.5"
  }
 },
 "nbformat": 4,
 "nbformat_minor": 5
}
