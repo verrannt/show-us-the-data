{
 "cells": [
  {
   "cell_type": "markdown",
   "id": "utility-mystery",
   "metadata": {},
   "source": [
    "## Length EDA\n",
    "\n",
    "As result of some interesting findings in `capitalisation_eda.ipynb`, I decided to take a short look at the lengths of the texts.\n",
    "\n",
    "### Summary\n",
    "1. Despite there being 14316 unique texts, there are only 130 unique dataset labels (of which many are still very similar).\n",
    "1. 95.4% has a their number of words between 0 and 20'000, and 99.2% below 70'000. The other 0.8% lies in a tail that exteds up to 1'790'898 words.\n",
    "1. The biggest file is very big (10.8 mb of text).\n",
    "    \n",
    "In other words, we have a few very long entries (likely books) that are a very small part of the dataset. It might be worth to exclude these as they might have different characteristics from the papers and might take up a lot of training time."
   ]
  },
  {
   "cell_type": "code",
   "execution_count": 1,
   "id": "biblical-small",
   "metadata": {},
   "outputs": [],
   "source": [
    "import os, sys, inspect\n",
    "\n",
    "current_dir = os.path.dirname(os.path.abspath(inspect.getfile(inspect.currentframe())))\n",
    "parent_dir = os.path.dirname(current_dir)\n",
    "sys.path.insert(0, parent_dir) \n",
    "\n",
    "from utils import ParseUtils\n",
    "import re\n",
    "import matplotlib.pyplot as plt\n",
    "import matplotlib\n",
    "import numpy as np\n",
    "import math\n",
    "import pandas as pd\n",
    "\n",
    "font = {'size': 12}\n",
    "matplotlib.rc('font', **font)"
   ]
  },
  {
   "cell_type": "code",
   "execution_count": 2,
   "id": "raising-compensation",
   "metadata": {},
   "outputs": [],
   "source": [
    "DATA_PATH = \"D:\\Kynntec\\Git_repositories\\show-us-the-data\\data\\coleridgeinitiative-show-us-the-data/\""
   ]
  },
  {
   "cell_type": "code",
   "execution_count": 3,
   "id": "optical-investment",
   "metadata": {},
   "outputs": [],
   "source": [
    "train_df = pd.read_csv(DATA_PATH + \"train.csv\")"
   ]
  },
  {
   "cell_type": "code",
   "execution_count": 4,
   "id": "lightweight-explanation",
   "metadata": {},
   "outputs": [
    {
     "data": {
      "text/html": [
       "<div>\n",
       "<style scoped>\n",
       "    .dataframe tbody tr th:only-of-type {\n",
       "        vertical-align: middle;\n",
       "    }\n",
       "\n",
       "    .dataframe tbody tr th {\n",
       "        vertical-align: top;\n",
       "    }\n",
       "\n",
       "    .dataframe thead th {\n",
       "        text-align: right;\n",
       "    }\n",
       "</style>\n",
       "<table border=\"1\" class=\"dataframe\">\n",
       "  <thead>\n",
       "    <tr style=\"text-align: right;\">\n",
       "      <th></th>\n",
       "      <th>Id</th>\n",
       "      <th>pub_title</th>\n",
       "      <th>dataset_title</th>\n",
       "      <th>dataset_label</th>\n",
       "      <th>cleaned_label</th>\n",
       "    </tr>\n",
       "  </thead>\n",
       "  <tbody>\n",
       "    <tr>\n",
       "      <th>0</th>\n",
       "      <td>d0fa7568-7d8e-4db9-870f-f9c6f668c17b</td>\n",
       "      <td>The Impact of Dual Enrollment on College Degre...</td>\n",
       "      <td>National Education Longitudinal Study</td>\n",
       "      <td>National Education Longitudinal Study</td>\n",
       "      <td>national education longitudinal study</td>\n",
       "    </tr>\n",
       "    <tr>\n",
       "      <th>1</th>\n",
       "      <td>2f26f645-3dec-485d-b68d-f013c9e05e60</td>\n",
       "      <td>Educational Attainment of High School Dropouts...</td>\n",
       "      <td>National Education Longitudinal Study</td>\n",
       "      <td>National Education Longitudinal Study</td>\n",
       "      <td>national education longitudinal study</td>\n",
       "    </tr>\n",
       "    <tr>\n",
       "      <th>2</th>\n",
       "      <td>c5d5cd2c-59de-4f29-bbb1-6a88c7b52f29</td>\n",
       "      <td>Differences in Outcomes for Female and Male St...</td>\n",
       "      <td>National Education Longitudinal Study</td>\n",
       "      <td>National Education Longitudinal Study</td>\n",
       "      <td>national education longitudinal study</td>\n",
       "    </tr>\n",
       "    <tr>\n",
       "      <th>3</th>\n",
       "      <td>5c9a3bc9-41ba-4574-ad71-e25c1442c8af</td>\n",
       "      <td>Stepping Stone and Option Value in a Model of ...</td>\n",
       "      <td>National Education Longitudinal Study</td>\n",
       "      <td>National Education Longitudinal Study</td>\n",
       "      <td>national education longitudinal study</td>\n",
       "    </tr>\n",
       "    <tr>\n",
       "      <th>4</th>\n",
       "      <td>c754dec7-c5a3-4337-9892-c02158475064</td>\n",
       "      <td>Parental Effort, School Resources, and Student...</td>\n",
       "      <td>National Education Longitudinal Study</td>\n",
       "      <td>National Education Longitudinal Study</td>\n",
       "      <td>national education longitudinal study</td>\n",
       "    </tr>\n",
       "  </tbody>\n",
       "</table>\n",
       "</div>"
      ],
      "text/plain": [
       "                                     Id  \\\n",
       "0  d0fa7568-7d8e-4db9-870f-f9c6f668c17b   \n",
       "1  2f26f645-3dec-485d-b68d-f013c9e05e60   \n",
       "2  c5d5cd2c-59de-4f29-bbb1-6a88c7b52f29   \n",
       "3  5c9a3bc9-41ba-4574-ad71-e25c1442c8af   \n",
       "4  c754dec7-c5a3-4337-9892-c02158475064   \n",
       "\n",
       "                                           pub_title  \\\n",
       "0  The Impact of Dual Enrollment on College Degre...   \n",
       "1  Educational Attainment of High School Dropouts...   \n",
       "2  Differences in Outcomes for Female and Male St...   \n",
       "3  Stepping Stone and Option Value in a Model of ...   \n",
       "4  Parental Effort, School Resources, and Student...   \n",
       "\n",
       "                           dataset_title  \\\n",
       "0  National Education Longitudinal Study   \n",
       "1  National Education Longitudinal Study   \n",
       "2  National Education Longitudinal Study   \n",
       "3  National Education Longitudinal Study   \n",
       "4  National Education Longitudinal Study   \n",
       "\n",
       "                           dataset_label  \\\n",
       "0  National Education Longitudinal Study   \n",
       "1  National Education Longitudinal Study   \n",
       "2  National Education Longitudinal Study   \n",
       "3  National Education Longitudinal Study   \n",
       "4  National Education Longitudinal Study   \n",
       "\n",
       "                           cleaned_label  \n",
       "0  national education longitudinal study  \n",
       "1  national education longitudinal study  \n",
       "2  national education longitudinal study  \n",
       "3  national education longitudinal study  \n",
       "4  national education longitudinal study  "
      ]
     },
     "execution_count": 4,
     "metadata": {},
     "output_type": "execute_result"
    }
   ],
   "source": [
    "train_df.head()"
   ]
  },
  {
   "cell_type": "code",
   "execution_count": 5,
   "id": "devoted-brain",
   "metadata": {},
   "outputs": [
    {
     "name": "stdout",
     "output_type": "stream",
     "text": [
      "Total amount of texts: 14316\n",
      "Amount of unique labels: 130\n"
     ]
    }
   ],
   "source": [
    "print(\"Total amount of texts:\", len(np.unique(train_df['Id'])))\n",
    "print(\"Amount of unique labels:\", len(np.unique(train_df['cleaned_label'])))"
   ]
  },
  {
   "cell_type": "code",
   "execution_count": 6,
   "id": "greenhouse-jackson",
   "metadata": {},
   "outputs": [
    {
     "data": {
      "text/plain": [
       "array(['2019 ncov complete genome sequences', '2019 ncov genome sequence',\n",
       "       '2019 ncov genome sequences', 'adni',\n",
       "       'advanced national seismic system anss comprehensive catalog comcat ',\n",
       "       'advanced national seismic system comprehensive catalog',\n",
       "       'aging integrated database', 'aging integrated database agid ',\n",
       "       'agricultural resource management survey',\n",
       "       'agricultural resources management survey',\n",
       "       'alzheimer s disease neuroimaging initiative adni ',\n",
       "       'alzheimers disease neuroimaging initiative',\n",
       "       'anss comprehensive catalog',\n",
       "       'anss comprehensive earthquake catalog',\n",
       "       'arms farm financial and crop production practices',\n",
       "       'baccalaureate and beyond',\n",
       "       'baccalaureate and beyond longitudinal study',\n",
       "       'baltimore longitudinal study of aging',\n",
       "       'baltimore longitudinal study of aging blsa ',\n",
       "       'beginning postsecondary student',\n",
       "       'beginning postsecondary students',\n",
       "       'beginning postsecondary students longitudinal study',\n",
       "       'cas covid 19 antiviral candidate compounds data',\n",
       "       'cas covid 19 antiviral candidate compounds data set',\n",
       "       'cas covid 19 antiviral candidate compounds dataset', 'cccsl',\n",
       "       'census of agriculture',\n",
       "       'characterizing health associated risks and your baseline disease in sars cov 2',\n",
       "       'characterizing health associated risks and your baseline disease in sars cov 2 charybdis ',\n",
       "       'coastal change analysis program',\n",
       "       'coastal change analysis program land cover',\n",
       "       'common core of data',\n",
       "       'complexity science hub covid 19 control strategies list',\n",
       "       'complexity science hub covid 19 control strategies list cccsl ',\n",
       "       'covid 19 death data', 'covid 19 genome sequence',\n",
       "       'covid 19 genome sequences', 'covid 19 image data collection',\n",
       "       'covid 19 open research data', 'covid 19 open research dataset',\n",
       "       'covid 19 open research dataset cord 19 ',\n",
       "       'covid open research dataset',\n",
       "       'early childhood longitudinal study',\n",
       "       'education longitudinal study',\n",
       "       'ffrdc research and development survey',\n",
       "       'genome sequence of 2019 ncov', 'genome sequence of covid 19',\n",
       "       'genome sequence of sars cov 2', 'genome sequences of 2019 ncov',\n",
       "       'genome sequences of covid 19', 'genome sequences of sars cov 2',\n",
       "       'high school longitudinal study',\n",
       "       'higher education research and development survey', 'ibtracs',\n",
       "       'international best track archive for climate stewardship',\n",
       "       'jh crown registry', 'nass census of agriculture',\n",
       "       'national assessment of education progress',\n",
       "       'national center for education statistics common core of data',\n",
       "       'national center for science and engineering statistics higher education research and development survey',\n",
       "       'national center for science and engineering statistics survey of doctorate recipients',\n",
       "       'national center for science and engineering statistics survey of earned doctorates',\n",
       "       'national center for science and engineering statistics survey of graduate students and postdoctorates in science and engineering',\n",
       "       'national center for science and engineering statistics survey of industrial research and development',\n",
       "       'national center for science and engineering statistics survey of science and engineering research facilities',\n",
       "       'national education longitudinal study',\n",
       "       'national oceanic and atmospheric administration c cap',\n",
       "       'national oceanic and atmospheric administration optimum interpolation sea surface temperature',\n",
       "       'national oceanic and atmospheric administration world ocean database',\n",
       "       'national science foundation higher education research and development survey',\n",
       "       'national science foundation survey of doctorate recipients',\n",
       "       'national science foundation survey of earned doctorates',\n",
       "       'national science foundation survey of graduate students and postdoctorates in science and engineering',\n",
       "       'national science foundation survey of industrial research and development',\n",
       "       'national science foundation survey of science and engineering research facilities',\n",
       "       'national teacher and principal survey',\n",
       "       'national water level observation network',\n",
       "       'national weather service nws storm surge risk',\n",
       "       'nces common core of data', 'ncses survey of doctorate recipients',\n",
       "       'ncses survey of graduate students and postdoctorates in science and engineering',\n",
       "       'noaa c cap',\n",
       "       'noaa international best track archive for climate stewardship',\n",
       "       'noaa national water level observation network',\n",
       "       'noaa optimum interpolation sea surface temperature',\n",
       "       'noaa sea lake and overland surges from hurricanes',\n",
       "       'noaa storm surge inundation', 'noaa tidal station',\n",
       "       'noaa tide gauge', 'noaa tide station', 'noaa water level station',\n",
       "       'noaa world ocean database', 'north american breeding bird survey',\n",
       "       'north american breeding bird survey bbs ',\n",
       "       'nsf ffrdc research and development survey',\n",
       "       'nsf higher education research and development survey',\n",
       "       'nsf survey of earned doctorates',\n",
       "       'nsf survey of graduate students and postdoctorates in science and engineering',\n",
       "       'nsf survey of industrial research and development',\n",
       "       'nsf survey of science and engineering research facilities',\n",
       "       'optimum interpolation sea surface temperature',\n",
       "       'our world in data', 'our world in data covid 19',\n",
       "       'our world in data covid 19 dataset',\n",
       "       'program for the international assessment of adult competencies',\n",
       "       'rsna international covid 19 open radiology database',\n",
       "       'rsna international covid 19 open radiology database ricord ',\n",
       "       'rsna international covid open radiology database',\n",
       "       'rural urban continuum codes',\n",
       "       'sars cov 2 complete genome sequence',\n",
       "       'sars cov 2 complete genome sequences',\n",
       "       'sars cov 2 full genome sequence',\n",
       "       'sars cov 2 full genome sequences', 'sars cov 2 genome sequence',\n",
       "       'sars cov 2 genome sequences', 'school survey on crime and safety',\n",
       "       'sea surface temperature optimum interpolation', 'slosh model',\n",
       "       'survey of doctorate recipients', 'survey of earned doctorates',\n",
       "       'survey of graduate students and postdoctorates in science and engineering',\n",
       "       'survey of industrial research and development',\n",
       "       'survey of science and engineering research facilities',\n",
       "       'survey of state government research and development',\n",
       "       'the national institute on aging genetics of alzheimer s disease data storage site',\n",
       "       'the national institute on aging genetics of alzheimer s disease data storage site niagads ',\n",
       "       'trends in international mathematics and science study',\n",
       "       'usda census of agriculture',\n",
       "       'usgs north american breeding bird survey', 'world ocean database'],\n",
       "      dtype=object)"
      ]
     },
     "execution_count": 6,
     "metadata": {},
     "output_type": "execute_result"
    }
   ],
   "source": [
    "np.unique(train_df['cleaned_label'])"
   ]
  },
  {
   "cell_type": "code",
   "execution_count": 7,
   "id": "incomplete-siemens",
   "metadata": {},
   "outputs": [],
   "source": [
    "train_df['text'] = train_df['Id'].apply(lambda ID: ParseUtils.read_append_return(ID, DATA_PATH+\"train/\"))"
   ]
  },
  {
   "cell_type": "code",
   "execution_count": 8,
   "id": "offensive-cancer",
   "metadata": {},
   "outputs": [],
   "source": [
    "from nltk.tokenize import RegexpTokenizer\n",
    "tokenizer = RegexpTokenizer(r'\\w+')\n",
    "\n",
    "def count_words(text):\n",
    "    return len(tokenizer.tokenize(text))"
   ]
  },
  {
   "cell_type": "code",
   "execution_count": 9,
   "id": "decimal-sacramento",
   "metadata": {},
   "outputs": [],
   "source": [
    "train_df['text_word_count'] = train_df['text'].apply(count_words)"
   ]
  },
  {
   "cell_type": "code",
   "execution_count": 10,
   "id": "bacterial-protein",
   "metadata": {},
   "outputs": [],
   "source": [
    "def count_statistics(data, title, bins):\n",
    "    plt.hist(data, bins, color='#107070')\n",
    "    plt.title(title)\n",
    "    print(\"--\"+title+\"--\")\n",
    "    print(\"Mean\", np.mean(data))\n",
    "    print(\"Median\", np.median(data))\n",
    "    print(\"Std\", np.std(data))"
   ]
  },
  {
   "cell_type": "code",
   "execution_count": 11,
   "id": "seasonal-scientist",
   "metadata": {},
   "outputs": [
    {
     "name": "stdout",
     "output_type": "stream",
     "text": [
      "--Word count in texts--\n",
      "Mean 8740.314582167743\n",
      "Median 5269.0\n",
      "Std 28737.03087640476\n"
     ]
    },
    {
     "data": {
      "image/png": "[encoded data removed]",
      "text/plain": [
       "<Figure size 432x288 with 1 Axes>"
      ]
     },
     "metadata": {
      "needs_background": "light"
     },
     "output_type": "display_data"
    }
   ],
   "source": [
    "count_statistics(train_df['text_word_count'], \"Word count in texts\", bins=50)"
   ]
  },
  {
   "cell_type": "code",
   "execution_count": 12,
   "id": "important-cooper",
   "metadata": {},
   "outputs": [
    {
     "name": "stdout",
     "output_type": "stream",
     "text": [
      "--Word count in texts--\n",
      "Mean 8462.811285234558\n",
      "Median 5268.5\n",
      "Std 23351.542286569547\n"
     ]
    },
    {
     "data": {
      "image/png": "[encoded data removed]",
      "text/plain": [
       "<Figure size 432x288 with 1 Axes>"
      ]
     },
     "metadata": {
      "needs_background": "light"
     },
     "output_type": "display_data"
    }
   ],
   "source": [
    "count_statistics(train_df['text_word_count'][train_df['text_word_count'] < 500000], \"Word count in texts\", bins=50)"
   ]
  },
  {
   "cell_type": "code",
   "execution_count": 34,
   "id": "under-radio",
   "metadata": {},
   "outputs": [
    {
     "name": "stdout",
     "output_type": "stream",
     "text": [
      "--Word count in texts--\n",
      "Mean 6826.893897435897\n",
      "Median 5243.0\n",
      "Std 6697.829555806842\n"
     ]
    },
    {
     "data": {
      "text/plain": [
       "Text(0, 0.5, 'Text count')"
      ]
     },
     "execution_count": 34,
     "metadata": {},
     "output_type": "execute_result"
    },
    {
     "data": {
      "image/png": "[encoded data removed]",
      "text/plain": [
       "<Figure size 432x288 with 1 Axes>"
      ]
     },
     "metadata": {
      "needs_background": "light"
     },
     "output_type": "display_data"
    }
   ],
   "source": [
    "count_statistics(train_df['text_word_count'][train_df['text_word_count'] < 70000], \"Word count in texts\", bins=50)\n",
    "plt.xlabel(\"Word count\")\n",
    "plt.ylabel(\"Text count\")\n",
    "# plt.savefig('lengths.pdf', bbox_inches=\"tight\")"
   ]
  },
  {
   "cell_type": "code",
   "execution_count": 14,
   "id": "surprising-metadata",
   "metadata": {},
   "outputs": [
    {
     "data": {
      "text/plain": [
       "0.9541732363562382"
      ]
     },
     "execution_count": 14,
     "metadata": {},
     "output_type": "execute_result"
    }
   ],
   "source": [
    "len(train_df['text_word_count'][train_df['text_word_count'] < 20000])/len(train_df)"
   ]
  },
  {
   "cell_type": "code",
   "execution_count": 15,
   "id": "partial-zambia",
   "metadata": {},
   "outputs": [
    {
     "data": {
      "text/plain": [
       "0.9918111998372412"
      ]
     },
     "execution_count": 15,
     "metadata": {},
     "output_type": "execute_result"
    }
   ],
   "source": [
    "len(train_df['text_word_count'][train_df['text_word_count'] < 70000])/len(train_df)"
   ]
  },
  {
   "cell_type": "code",
   "execution_count": 16,
   "id": "green-difference",
   "metadata": {},
   "outputs": [
    {
     "data": {
      "text/plain": [
       "1790897"
      ]
     },
     "execution_count": 16,
     "metadata": {},
     "output_type": "execute_result"
    }
   ],
   "source": [
    "max(train_df['text_word_count'])"
   ]
  },
  {
   "cell_type": "code",
   "execution_count": 17,
   "id": "mature-buffalo",
   "metadata": {},
   "outputs": [
    {
     "data": {
      "text/html": [
       "<div>\n",
       "<style scoped>\n",
       "    .dataframe tbody tr th:only-of-type {\n",
       "        vertical-align: middle;\n",
       "    }\n",
       "\n",
       "    .dataframe tbody tr th {\n",
       "        vertical-align: top;\n",
       "    }\n",
       "\n",
       "    .dataframe thead th {\n",
       "        text-align: right;\n",
       "    }\n",
       "</style>\n",
       "<table border=\"1\" class=\"dataframe\">\n",
       "  <thead>\n",
       "    <tr style=\"text-align: right;\">\n",
       "      <th></th>\n",
       "      <th>Id</th>\n",
       "      <th>pub_title</th>\n",
       "      <th>dataset_title</th>\n",
       "      <th>dataset_label</th>\n",
       "      <th>cleaned_label</th>\n",
       "      <th>text</th>\n",
       "      <th>text_word_count</th>\n",
       "    </tr>\n",
       "  </thead>\n",
       "  <tbody>\n",
       "    <tr>\n",
       "      <th>15752</th>\n",
       "      <td>c12a3ad2-17bc-4b8b-8779-77ba2680ae96</td>\n",
       "      <td>2013 Annual Meeting Abstract Supplement</td>\n",
       "      <td>Rural-Urban Continuum Codes</td>\n",
       "      <td>Rural-Urban Continuum Codes</td>\n",
       "      <td>rural urban continuum codes</td>\n",
       "      <td>AN OFFICIAL JOURNAL OF THE AMERICAN COLLEGE OF...</td>\n",
       "      <td>1790897</td>\n",
       "    </tr>\n",
       "  </tbody>\n",
       "</table>\n",
       "</div>"
      ],
      "text/plain": [
       "                                         Id  \\\n",
       "15752  c12a3ad2-17bc-4b8b-8779-77ba2680ae96   \n",
       "\n",
       "                                     pub_title                dataset_title  \\\n",
       "15752  2013 Annual Meeting Abstract Supplement  Rural-Urban Continuum Codes   \n",
       "\n",
       "                     dataset_label                cleaned_label  \\\n",
       "15752  Rural-Urban Continuum Codes  rural urban continuum codes   \n",
       "\n",
       "                                                    text  text_word_count  \n",
       "15752  AN OFFICIAL JOURNAL OF THE AMERICAN COLLEGE OF...          1790897  "
      ]
     },
     "execution_count": 17,
     "metadata": {},
     "output_type": "execute_result"
    }
   ],
   "source": [
    "subject = train_df.loc[train_df['text_word_count'] == max(train_df['text_word_count'])]\n",
    "subject"
   ]
  },
  {
   "cell_type": "markdown",
   "id": "revolutionary-charity",
   "metadata": {},
   "source": [
    "## Observations\n",
    "\n",
    "1. 95.4% has a their number of words between 0 and 20'000, and 99.2% below 70'000. The other 0.8% lies in a tail that exteds up to 1'790'898 words.\n",
    "\n",
    "2. The biggest file is very big (10.8 mb of text)"
   ]
  },
  {
   "cell_type": "code",
   "execution_count": 18,
   "id": "eight-magnitude",
   "metadata": {},
   "outputs": [],
   "source": [
    "def count_characters(text):\n",
    "    return len(text)"
   ]
  },
  {
   "cell_type": "code",
   "execution_count": 19,
   "id": "pressing-welsh",
   "metadata": {},
   "outputs": [],
   "source": [
    "train_df['text_character_count'] = train_df['text'].apply(count_characters)"
   ]
  },
  {
   "cell_type": "code",
   "execution_count": 20,
   "id": "reliable-agent",
   "metadata": {},
   "outputs": [
    {
     "name": "stdout",
     "output_type": "stream",
     "text": [
      "--Character count in texts--\n",
      "Mean 55260.371954630995\n",
      "Median 33320.0\n",
      "Std 183300.17230720716\n"
     ]
    },
    {
     "data": {
      "image/png": "[encoded data removed]",
      "text/plain": [
       "<Figure size 432x288 with 1 Axes>"
      ]
     },
     "metadata": {
      "needs_background": "light"
     },
     "output_type": "display_data"
    }
   ],
   "source": [
    "count_statistics(train_df['text_character_count'], \"Character count in texts\", bins=50)"
   ]
  },
  {
   "cell_type": "code",
   "execution_count": 21,
   "id": "blank-capability",
   "metadata": {},
   "outputs": [
    {
     "name": "stdout",
     "output_type": "stream",
     "text": [
      "--Character count in texts--\n",
      "Mean 43473.56758557081\n",
      "Median 33170.0\n",
      "Std 43850.780260126536\n"
     ]
    },
    {
     "data": {
      "image/png": "[encoded data removed]",
      "text/plain": [
       "<Figure size 432x288 with 1 Axes>"
      ]
     },
     "metadata": {
      "needs_background": "light"
     },
     "output_type": "display_data"
    }
   ],
   "source": [
    "count_statistics(train_df['text_character_count'][train_df['text_character_count'] < 500000], \"Character count in texts\", bins=50)"
   ]
  },
  {
   "cell_type": "code",
   "execution_count": 22,
   "id": "mounted-singing",
   "metadata": {},
   "outputs": [
    {
     "name": "stdout",
     "output_type": "stream",
     "text": [
      "--Character count in texts--\n",
      "Mean 38647.784407984116\n",
      "Median 32755.0\n",
      "Std 25921.221902249457\n"
     ]
    },
    {
     "data": {
      "image/png": "[encoded data removed]",
      "text/plain": [
       "<Figure size 432x288 with 1 Axes>"
      ]
     },
     "metadata": {
      "needs_background": "light"
     },
     "output_type": "display_data"
    }
   ],
   "source": [
    "count_statistics(train_df['text_character_count'][train_df['text_character_count'] < 200000], \"Character count in texts\", bins=50)"
   ]
  },
  {
   "cell_type": "code",
   "execution_count": 23,
   "id": "handy-yukon",
   "metadata": {},
   "outputs": [
    {
     "data": {
      "text/plain": [
       "0.973399114999237"
      ]
     },
     "execution_count": 23,
     "metadata": {},
     "output_type": "execute_result"
    }
   ],
   "source": [
    "len(train_df['text_character_count'][train_df['text_character_count'] < 200000])/len(train_df)"
   ]
  },
  {
   "cell_type": "code",
   "execution_count": 24,
   "id": "latest-bride",
   "metadata": {},
   "outputs": [
    {
     "data": {
      "text/plain": [
       "0.9424240882966278"
      ]
     },
     "execution_count": 24,
     "metadata": {},
     "output_type": "execute_result"
    }
   ],
   "source": [
    "len(train_df['text_character_count'][train_df['text_character_count'] < 100000])/len(train_df)"
   ]
  },
  {
   "cell_type": "code",
   "execution_count": 25,
   "id": "entire-bailey",
   "metadata": {},
   "outputs": [
    {
     "data": {
      "text/plain": [
       "199575"
      ]
     },
     "execution_count": 25,
     "metadata": {},
     "output_type": "execute_result"
    }
   ],
   "source": [
    "max(train_df['text_character_count'][train_df['text_character_count'] < 200000])"
   ]
  },
  {
   "cell_type": "code",
   "execution_count": 26,
   "id": "driving-helen",
   "metadata": {},
   "outputs": [
    {
     "data": {
      "text/html": [
       "<div>\n",
       "<style scoped>\n",
       "    .dataframe tbody tr th:only-of-type {\n",
       "        vertical-align: middle;\n",
       "    }\n",
       "\n",
       "    .dataframe tbody tr th {\n",
       "        vertical-align: top;\n",
       "    }\n",
       "\n",
       "    .dataframe thead th {\n",
       "        text-align: right;\n",
       "    }\n",
       "</style>\n",
       "<table border=\"1\" class=\"dataframe\">\n",
       "  <thead>\n",
       "    <tr style=\"text-align: right;\">\n",
       "      <th></th>\n",
       "      <th>Id</th>\n",
       "      <th>pub_title</th>\n",
       "      <th>dataset_title</th>\n",
       "      <th>dataset_label</th>\n",
       "      <th>cleaned_label</th>\n",
       "      <th>text</th>\n",
       "      <th>text_word_count</th>\n",
       "      <th>text_character_count</th>\n",
       "    </tr>\n",
       "  </thead>\n",
       "  <tbody>\n",
       "    <tr>\n",
       "      <th>15541</th>\n",
       "      <td>6b0d9465-695f-4ae5-af51-f7c4478aaba6</td>\n",
       "      <td>University Researchers' Perceptions and Experi...</td>\n",
       "      <td>Higher Education Research and Development Survey</td>\n",
       "      <td>Higher Education Research and Development Survey</td>\n",
       "      <td>higher education research and development survey</td>\n",
       "      <td>examines possible contributing factors and ten...</td>\n",
       "      <td>33920</td>\n",
       "      <td>199575</td>\n",
       "    </tr>\n",
       "  </tbody>\n",
       "</table>\n",
       "</div>"
      ],
      "text/plain": [
       "                                         Id  \\\n",
       "15541  6b0d9465-695f-4ae5-af51-f7c4478aaba6   \n",
       "\n",
       "                                               pub_title  \\\n",
       "15541  University Researchers' Perceptions and Experi...   \n",
       "\n",
       "                                          dataset_title  \\\n",
       "15541  Higher Education Research and Development Survey   \n",
       "\n",
       "                                          dataset_label  \\\n",
       "15541  Higher Education Research and Development Survey   \n",
       "\n",
       "                                          cleaned_label  \\\n",
       "15541  higher education research and development survey   \n",
       "\n",
       "                                                    text  text_word_count  \\\n",
       "15541  examines possible contributing factors and ten...            33920   \n",
       "\n",
       "       text_character_count  \n",
       "15541                199575  "
      ]
     },
     "execution_count": 26,
     "metadata": {},
     "output_type": "execute_result"
    }
   ],
   "source": [
    "subject = train_df.loc[train_df['text_character_count'] == max(train_df['text_character_count'][train_df['text_character_count'] < 200000])]\n",
    "subject"
   ]
  },
  {
   "cell_type": "code",
   "execution_count": null,
   "id": "christian-lodging",
   "metadata": {},
   "outputs": [],
   "source": []
  }
 ],
 "metadata": {
  "kernelspec": {
   "display_name": "Python 3",
   "language": "python",
   "name": "python3"
  },
  "language_info": {
   "codemirror_mode": {
    "name": "ipython",
    "version": 3
   },
   "file_extension": ".py",
   "mimetype": "text/x-python",
   "name": "python",
   "nbconvert_exporter": "python",
   "pygments_lexer": "ipython3",
   "version": "3.8.5"
  }
 },
 "nbformat": 4,
 "nbformat_minor": 5
}
