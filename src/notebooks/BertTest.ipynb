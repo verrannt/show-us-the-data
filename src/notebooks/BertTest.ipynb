{
 "cells": [
  {
   "cell_type": "code",
   "execution_count": 1,
   "id": "998c70af",
   "metadata": {},
   "outputs": [],
   "source": [
    "# built in\n",
    "import json\n",
    "import random\n",
    "import os\n",
    "# append to path to allow relative imports\n",
    "import sys\n",
    "sys.path.append(\"..\")\n",
    "\n",
    "# 3rd party\n",
    "from keras.preprocessing.sequence import pad_sequences\n",
    "import matplotlib.pyplot as plt\n",
    "import numpy as np\n",
    "import pandas as pd\n",
    "from rich.console import Console\n",
    "from rich.progress import track\n",
    "from sklearn.model_selection import train_test_split\n",
    "from sklearn.metrics import f1_score, accuracy_score\n",
    "from tqdm import tqdm\n",
    "from transformers import BertForTokenClassification, BertModel, AdamW, BertTokenizerFast\n",
    "import torch\n",
    "from torch import nn\n",
    "from torch.utils.data import TensorDataset, DataLoader, RandomSampler, SequentialSampler\n",
    "\n",
    "# own\n",
    "from utils.data.preproc import Pipeline, PipelineConfigs\n",
    "from utils.data.parse import ParseUtils\n",
    "from utils.data.parse import ParseUtils\n",
    "from utils.generic import timer"
   ]
  },
  {
   "cell_type": "markdown",
   "id": "738af29f",
   "metadata": {},
   "source": [
    "# Prep Data"
   ]
  },
  {
   "cell_type": "code",
   "execution_count": 13,
   "id": "d15b7439",
   "metadata": {},
   "outputs": [],
   "source": [
    "data_path = os.path.join(\n",
    "    os.path.abspath('../../'), # Root of project\n",
    "    'data/coleridgeinitiative-show-us-the-data/' # Data folder\n",
    ")\n",
    "\n",
    "configs = PipelineConfigs(\n",
    "    DATA_PATH = data_path,\n",
    "    MAX_LENGTH = 64,\n",
    "    OVERLAP = 20,\n",
    "    MAX_SAMPLE = None,\n",
    "    SAVE = True,\n",
    "    EXTRACTED_FILENAME = 'train_ner.data',\n",
    "    TOKENIZED_FILENAME = 'train_ner.data.tokenized',\n",
    ")\n",
    "\n",
    "device = torch.device(\"cuda\" if torch.cuda.is_available() else \"cpu\")\n",
    "n_gpu = torch.cuda.device_count()\n",
    "if n_gpu > 0: \n",
    "    torch.cuda.get_device_name(0)\n",
    "    print('Running on GPU')"
   ]
  },
  {
   "cell_type": "code",
   "execution_count": 3,
   "id": "8c602f89",
   "metadata": {},
   "outputs": [],
   "source": [
    "pipeline = Pipeline(configs)"
   ]
  },
  {
   "cell_type": "code",
   "execution_count": 4,
   "id": "ec9b9627",
   "metadata": {},
   "outputs": [],
   "source": [
    "input_ids, tags, attention_masks = pipeline.load_outputs()"
   ]
  },
  {
   "cell_type": "code",
   "execution_count": 5,
   "id": "00abbd4f",
   "metadata": {},
   "outputs": [],
   "source": [
    "# Intermezzo fix tag labels\n",
    "tag2id = {t:i for i, t in enumerate(np.unique(tags))}\n",
    "tags = [[tag2id[tag] for tag in sent] for sent in tags]"
   ]
  },
  {
   "cell_type": "code",
   "execution_count": 6,
   "id": "181adc83",
   "metadata": {},
   "outputs": [],
   "source": [
    "tr_inputs, val_inputs, tr_tags, val_tags = train_test_split(\n",
    "    input_ids, \n",
    "    tags,\n",
    "    random_state=2018, \n",
    "    test_size=0.1\n",
    ")\n",
    "\n",
    "tr_masks, val_masks, _, _ = train_test_split(\n",
    "    attention_masks, \n",
    "    input_ids,\n",
    "    random_state=2018, \n",
    "    test_size=0.1\n",
    ")"
   ]
  },
  {
   "cell_type": "code",
   "execution_count": 7,
   "id": "6c242ccc",
   "metadata": {},
   "outputs": [],
   "source": [
    "tr_inputs = torch.tensor(tr_inputs)\n",
    "val_inputs = torch.tensor(val_inputs)\n",
    "tr_tags = torch.tensor(tr_tags)\n",
    "val_tags = torch.tensor(val_tags)\n",
    "tr_masks = torch.tensor(tr_masks)\n",
    "val_masks = torch.tensor(val_masks)"
   ]
  },
  {
   "cell_type": "code",
   "execution_count": 8,
   "id": "a8699f74",
   "metadata": {},
   "outputs": [],
   "source": [
    "BATCH_SIZE = 32\n",
    "\n",
    "train_data = TensorDataset(tr_inputs, tr_masks, tr_tags)\n",
    "train_sampler = RandomSampler(train_data)\n",
    "train_dataloader = DataLoader(\n",
    "    train_data, sampler=train_sampler, batch_size=BATCH_SIZE)\n",
    "\n",
    "valid_data = TensorDataset(val_inputs, val_masks, val_tags)\n",
    "valid_sampler = SequentialSampler(valid_data)\n",
    "valid_dataloader = DataLoader(\n",
    "    valid_data, sampler=valid_sampler, batch_size=BATCH_SIZE)"
   ]
  },
  {
   "cell_type": "markdown",
   "id": "6c69b622",
   "metadata": {},
   "source": [
    "---"
   ]
  },
  {
   "cell_type": "markdown",
   "id": "1e74651e",
   "metadata": {},
   "source": [
    "# Using `BertModel` to feed embeddings into separate classifier"
   ]
  },
  {
   "cell_type": "code",
   "execution_count": 9,
   "id": "5f04cbcf",
   "metadata": {},
   "outputs": [],
   "source": [
    "# Get bert model. This will output raw hidden states\n",
    "model = BertModel.from_pretrained(\n",
    "    'bert-base-cased',\n",
    "    num_labels = 3\n",
    ")"
   ]
  },
  {
   "cell_type": "code",
   "execution_count": 10,
   "id": "1b80f5e2",
   "metadata": {},
   "outputs": [],
   "source": [
    "# Create one layer linear classifier to be used on top\n",
    "# of hidden states\n",
    "cls = nn.Linear(model.config.hidden_size, model.config.num_labels)"
   ]
  },
  {
   "cell_type": "code",
   "execution_count": 11,
   "id": "282f13dc",
   "metadata": {},
   "outputs": [],
   "source": [
    "def create_batched_embeddings(\n",
    "    model,  # The HuggingFace BertModel to create the embeddings\n",
    "    inputs, # The inputs to be fed to the model\n",
    "    masks,  # Attention masks for the inputs (same shape as inputs)\n",
    "    batch_size:int=32,\n",
    "):\n",
    "    \"\"\"\n",
    "    Feed batches of size `batch_size` into the provided model from provided inputs and masks,\n",
    "    and return the resulting embeddings as a `torch.tensor`\n",
    "    \"\"\"\n",
    "    total = inputs.shape[0]\n",
    "    # Drop the last data points if they don't fit with the batch size\n",
    "    total = (total // batch_size) * batch_size\n",
    "    \n",
    "    return [ \n",
    "        model(tr_inputs[i:i+batch_size], attention_mask=tr_masks[i:i+batch_size])\n",
    "            .last_hidden_state\n",
    "            .detach()\n",
    "        \n",
    "            for i in track(range(0, total, batch_size),\n",
    "               description='Creating embeddings')\n",
    "    ]\n",
    "\n",
    "def create_batched_tensor(\n",
    "    tensor,\n",
    "    batch_size:int=32,\n",
    "):\n",
    "    \"\"\"\n",
    "    From any given tensor, split the first dimension into batches of size\n",
    "    `batch_size` and return as a `torch.tensor`\n",
    "    \"\"\"\n",
    "    total = tensor.shape[0] \n",
    "    # Drop the last data points if they don't fit with the batch size\n",
    "    total = (total // batch_size) * batch_size\n",
    "    \n",
    "    return torch.tensor([\n",
    "        tensor[i:i+batch_size].numpy()\n",
    "        for i in track(range(0, total, batch_size),\n",
    "            description='Creating batches')\n",
    "    ])"
   ]
  },
  {
   "cell_type": "code",
   "execution_count": null,
   "id": "39f6a854",
   "metadata": {
    "scrolled": true
   },
   "outputs": [],
   "source": [
    "emb_data = create_batched_embeddings(model, tr_inputs, tr_masks, batch_size=BATCH_SIZE)"
   ]
  },
  {
   "cell_type": "code",
   "execution_count": null,
   "id": "20f4739b",
   "metadata": {},
   "outputs": [],
   "source": [
    "labels = create_batched_tensor(tr_tags, batch_size=BATCH_SIZE)\n",
    "masks = create_batched_tensor(tr_masks, batch_size=BATCH_SIZE)"
   ]
  },
  {
   "cell_type": "code",
   "execution_count": 159,
   "id": "c6a93d31",
   "metadata": {},
   "outputs": [
    {
     "data": {
      "text/plain": [
       "torch.Size([169, 32, 64, 768])"
      ]
     },
     "execution_count": 159,
     "metadata": {},
     "output_type": "execute_result"
    }
   ],
   "source": [
    "emb_data.shape, labels.shape, masks.shape"
   ]
  },
  {
   "cell_type": "code",
   "execution_count": 206,
   "id": "4f73df3f",
   "metadata": {},
   "outputs": [],
   "source": [
    "NUM_LABELS = model.config.num_labels\n",
    "EPOCHS = 200\n",
    "LEARNING_RATE = 3e-5\n",
    "\n",
    "loss_fn = nn.CrossEntropyLoss()\n",
    "\n",
    "optimizer = torch.optim.SGD(cls.parameters(), lr=LEARNING_RATE)"
   ]
  },
  {
   "cell_type": "code",
   "execution_count": 207,
   "id": "106d19c5",
   "metadata": {},
   "outputs": [],
   "source": [
    "loss_values, accuracies, f1_scores = [], [], []"
   ]
  },
  {
   "cell_type": "code",
   "execution_count": 208,
   "id": "9e8be101",
   "metadata": {},
   "outputs": [
    {
     "name": "stdout",
     "output_type": "stream",
     "text": [
      "[ Epoch  50/1000 ]   Loss: 0.07105   Acc: 0.48149   F1: 0.64907\n",
      "[ Epoch 100/1000 ]   Loss: 0.06106   Acc: 0.48149   F1: 0.64908\n",
      "[ Epoch 150/1000 ]   Loss: 0.05734   Acc: 0.48149   F1: 0.64908\n",
      "[ Epoch 200/1000 ]   Loss: 0.05479   Acc: 0.48149   F1: 0.64908\n",
      "[ Epoch 250/1000 ]   Loss: 0.05262   Acc: 0.48149   F1: 0.64908\n",
      "[ Epoch 300/1000 ]   Loss: 0.05064   Acc: 0.48149   F1: 0.64907\n",
      "[ Epoch 350/1000 ]   Loss: 0.04880   Acc: 0.48149   F1: 0.64907\n",
      "[ Epoch 400/1000 ]   Loss: 0.04707   Acc: 0.48149   F1: 0.64907\n",
      "[ Epoch 450/1000 ]   Loss: 0.04543   Acc: 0.48149   F1: 0.64906\n",
      "[ Epoch 500/1000 ]   Loss: 0.04389   Acc: 0.48149   F1: 0.64906\n",
      "[ Epoch 550/1000 ]   Loss: 0.04244   Acc: 0.48149   F1: 0.64905\n",
      "[ Epoch 600/1000 ]   Loss: 0.04107   Acc: 0.48149   F1: 0.64905\n",
      "[ Epoch 650/1000 ]   Loss: 0.03979   Acc: 0.48149   F1: 0.64904\n",
      "[ Epoch 700/1000 ]   Loss: 0.03859   Acc: 0.48148   F1: 0.64902\n",
      "[ Epoch 750/1000 ]   Loss: 0.03747   Acc: 0.48147   F1: 0.64901\n",
      "[ Epoch 800/1000 ]   Loss: 0.03643   Acc: 0.48148   F1: 0.64900\n",
      "[ Epoch 850/1000 ]   Loss: 0.03545   Acc: 0.48149   F1: 0.64899\n",
      "[ Epoch 900/1000 ]   Loss: 0.03454   Acc: 0.48151   F1: 0.64897\n",
      "[ Epoch 950/1000 ]   Loss: 0.03368   Acc: 0.48153   F1: 0.64894\n",
      "[ Epoch 1000/1000 ]   Loss: 0.03289   Acc: 0.48157   F1: 0.64892\n"
     ]
    }
   ],
   "source": [
    "total = emb_data.shape[0]\n",
    "\n",
    "USE_MASK = True\n",
    "\n",
    "for epoch in range(1,EPOCHS+1):\n",
    "    \n",
    "    # Collect metrics for all batches\n",
    "    losses, accs, f1s = [], [], []\n",
    "    \n",
    "    for step, (X, y) in enumerate(zip(emb_data, labels)):\n",
    "                \n",
    "        # Compute prediction\n",
    "        logits = cls(X)\n",
    "        # Flatten over batch and sequence\n",
    "        flat_logits = logits.view(-1, NUM_LABELS)\n",
    "        \n",
    "        # Compute loss\n",
    "        if USE_MASK:\n",
    "            loss_mask = masks[step].view(-1) == 1\n",
    "            flat_y = torch.where(\n",
    "                loss_mask, y.view(-1), torch.tensor(loss_fn.ignore_index).type_as(y)\n",
    "            )\n",
    "            loss = loss_fn(flat_logits, flat_y)\n",
    "        else:\n",
    "            flat_y = y.view(-1)\n",
    "            loss = loss_fn(flat_logits, flat_y) \n",
    "\n",
    "        # Backpropagation\n",
    "        optimizer.zero_grad()\n",
    "        loss.backward()\n",
    "        optimizer.step()\n",
    "            \n",
    "        # Detach and argmax\n",
    "        flat_logits = np.argmax(flat_logits.detach(), axis=1)\n",
    "        flat_y = flat_y.detach()\n",
    "        \n",
    "        # Compute metrics\n",
    "        losses.append(loss.item())        \n",
    "        accs.append(accuracy_score(flat_logits, flat_y))\n",
    "        f1s.append(f1_score(flat_logits, flat_y, average='weighted'))\n",
    "        \n",
    "    loss = np.mean(losses)\n",
    "    acc = np.mean(accs)\n",
    "    f1 = np.mean(f1s)\n",
    "        \n",
    "    loss_values.append(loss)\n",
    "    accuracies.append(acc)\n",
    "    f1_scores.append(f1)\n",
    "    \n",
    "    if epoch % 50 == 0:\n",
    "        print('[ Epoch {:3}/{} ]   Loss: {:.5f}   Acc: {:.5f}   F1: {:.5f}'.format(epoch, EPOCHS, loss, acc, f1))"
   ]
  },
  {
   "cell_type": "code",
   "execution_count": 196,
   "id": "0018be89",
   "metadata": {},
   "outputs": [
    {
     "data": {
      "image/png": "[encoded data removed]",
      "text/plain": [
       "<Figure size 864x432 with 1 Axes>"
      ]
     },
     "metadata": {
      "needs_background": "light"
     },
     "output_type": "display_data"
    }
   ],
   "source": [
    "plt.figure(figsize=(12,6))\n",
    "plt.xlabel('Epochs')\n",
    "plt.plot(loss_values, label='Loss')\n",
    "plt.plot(accuracies, label='Accuracy')\n",
    "plt.plot(f1_scores, label='F1 Score')\n",
    "plt.legend()\n",
    "plt.show()"
   ]
  },
  {
   "cell_type": "markdown",
   "id": "499c26d5",
   "metadata": {},
   "source": [
    "---"
   ]
  },
  {
   "cell_type": "markdown",
   "id": "498c0654",
   "metadata": {},
   "source": [
    "# Using `BertForTokenClassification` with possible finetuning"
   ]
  },
  {
   "cell_type": "code",
   "execution_count": 9,
   "id": "eaebf207",
   "metadata": {},
   "outputs": [],
   "source": [
    "model = BertForTokenClassification.from_pretrained(\n",
    "    'bert-base-cased',\n",
    "    num_labels = 3, # Hardcode for now\n",
    "    output_attentions=False,\n",
    "    output_hidden_states=False,\n",
    ")"
   ]
  },
  {
   "cell_type": "code",
   "execution_count": 11,
   "id": "97616bf8",
   "metadata": {},
   "outputs": [],
   "source": [
    "# Models are initialized in eval mode by default. We can call model.train() to put it in train mode.\n",
    "#model.train()"
   ]
  },
  {
   "cell_type": "code",
   "execution_count": 12,
   "id": "614d2c2a",
   "metadata": {},
   "outputs": [],
   "source": [
    "# Full finetuning to tune all model parameters\n",
    "# Otherwise, only train classifier\n",
    "FULL_FINETUNING = True\n",
    "\n",
    "if FULL_FINETUNING:\n",
    "    param_optimizer = list(model.named_parameters())\n",
    "    no_decay = ['bias', 'gamma', 'beta']\n",
    "    optimizer_grouped_parameters = [\n",
    "        {'params': [p for n, p in param_optimizer if not any(nd in n for nd in no_decay)],\n",
    "         'weight_decay_rate': 0.01},\n",
    "        {'params': [p for n, p in param_optimizer if any(nd in n for nd in no_decay)],\n",
    "         'weight_decay_rate': 0.0}\n",
    "    ]\n",
    "else:\n",
    "    param_optimizer = list(model.classifier.named_parameters())\n",
    "    optimizer_grouped_parameters = [{\"params\": [p for n, p in param_optimizer]}]"
   ]
  },
  {
   "cell_type": "code",
   "execution_count": 13,
   "id": "95d18d42",
   "metadata": {},
   "outputs": [],
   "source": [
    "EPOCHS = 4\n",
    "LEARNING_RATE = 3e-5\n",
    "EPSILON = 1e-8\n",
    "\n",
    "optimizer = AdamW(\n",
    "    optimizer_grouped_parameters,\n",
    "    lr=LEARNING_RATE,\n",
    "    eps=EPSILON\n",
    ")"
   ]
  },
  {
   "cell_type": "code",
   "execution_count": 19,
   "id": "8ca6d4e6",
   "metadata": {},
   "outputs": [],
   "source": [
    "for param in model.base_model.parameters():\n",
    "    param.requires_grad = False"
   ]
  },
  {
   "cell_type": "code",
   "execution_count": 20,
   "id": "88ccf07f",
   "metadata": {},
   "outputs": [],
   "source": [
    "from transformers import get_linear_schedule_with_warmup\n",
    "\n",
    "max_grad_norm = 1.0\n",
    "\n",
    "# Total number of training steps is number of batches * number of epochs.\n",
    "total_steps = len(train_dataloader) * EPOCHS\n",
    "\n",
    "# Create the learning rate scheduler.\n",
    "scheduler = get_linear_schedule_with_warmup(\n",
    "    optimizer,\n",
    "    num_warmup_steps=0,\n",
    "    num_training_steps=total_steps\n",
    ")"
   ]
  },
  {
   "cell_type": "code",
   "execution_count": 21,
   "id": "1a5324d1",
   "metadata": {},
   "outputs": [],
   "source": [
    "from seqeval.metrics import f1_score, accuracy_score"
   ]
  },
  {
   "cell_type": "code",
   "execution_count": 22,
   "id": "5fc626d0",
   "metadata": {},
   "outputs": [
    {
     "name": "stdout",
     "output_type": "stream",
     "text": [
      "Epoch 0/4\n",
      "Step 0/15792\n",
      "Step 1/15792\n",
      "Step 2/15792\n",
      "Step 3/15792\n",
      "Step 4/15792\n",
      "Step 5/15792\n",
      "Step 6/15792\n",
      "Step 7/15792\n",
      "Step 8/15792\n",
      "Step 9/15792\n",
      "Step 10/15792\n",
      "Step 11/15792\n",
      "Step 12/15792\n"
     ]
    },
    {
     "ename": "KeyboardInterrupt",
     "evalue": "",
     "output_type": "error",
     "traceback": [
      "\u001b[0;31m---------------------------------------------------------------------------\u001b[0m",
      "\u001b[0;31mKeyboardInterrupt\u001b[0m                         Traceback (most recent call last)",
      "\u001b[0;32m<ipython-input-22-6ba82f25c92d>\u001b[0m in \u001b[0;36m<module>\u001b[0;34m\u001b[0m\n\u001b[1;32m     43\u001b[0m         \u001b[0mtorch\u001b[0m\u001b[0;34m.\u001b[0m\u001b[0mnn\u001b[0m\u001b[0;34m.\u001b[0m\u001b[0mutils\u001b[0m\u001b[0;34m.\u001b[0m\u001b[0mclip_grad_norm_\u001b[0m\u001b[0;34m(\u001b[0m\u001b[0mparameters\u001b[0m\u001b[0;34m=\u001b[0m\u001b[0mmodel\u001b[0m\u001b[0;34m.\u001b[0m\u001b[0mparameters\u001b[0m\u001b[0;34m(\u001b[0m\u001b[0;34m)\u001b[0m\u001b[0;34m,\u001b[0m \u001b[0mmax_norm\u001b[0m\u001b[0;34m=\u001b[0m\u001b[0mmax_grad_norm\u001b[0m\u001b[0;34m)\u001b[0m\u001b[0;34m\u001b[0m\u001b[0;34m\u001b[0m\u001b[0m\n\u001b[1;32m     44\u001b[0m         \u001b[0;31m# update parameters\u001b[0m\u001b[0;34m\u001b[0m\u001b[0;34m\u001b[0m\u001b[0;34m\u001b[0m\u001b[0m\n\u001b[0;32m---> 45\u001b[0;31m         \u001b[0moptimizer\u001b[0m\u001b[0;34m.\u001b[0m\u001b[0mstep\u001b[0m\u001b[0;34m(\u001b[0m\u001b[0;34m)\u001b[0m\u001b[0;34m\u001b[0m\u001b[0;34m\u001b[0m\u001b[0m\n\u001b[0m\u001b[1;32m     46\u001b[0m         \u001b[0;31m# Update the learning rate.\u001b[0m\u001b[0;34m\u001b[0m\u001b[0;34m\u001b[0m\u001b[0;34m\u001b[0m\u001b[0m\n\u001b[1;32m     47\u001b[0m         \u001b[0mscheduler\u001b[0m\u001b[0;34m.\u001b[0m\u001b[0mstep\u001b[0m\u001b[0;34m(\u001b[0m\u001b[0;34m)\u001b[0m\u001b[0;34m\u001b[0m\u001b[0;34m\u001b[0m\u001b[0m\n",
      "\u001b[0;32m~/.virtualenvs/nlp/lib/python3.8/site-packages/torch/optim/lr_scheduler.py\u001b[0m in \u001b[0;36mwrapper\u001b[0;34m(*args, **kwargs)\u001b[0m\n\u001b[1;32m     63\u001b[0m                 \u001b[0minstance\u001b[0m\u001b[0;34m.\u001b[0m\u001b[0m_step_count\u001b[0m \u001b[0;34m+=\u001b[0m \u001b[0;36m1\u001b[0m\u001b[0;34m\u001b[0m\u001b[0;34m\u001b[0m\u001b[0m\n\u001b[1;32m     64\u001b[0m                 \u001b[0mwrapped\u001b[0m \u001b[0;34m=\u001b[0m \u001b[0mfunc\u001b[0m\u001b[0;34m.\u001b[0m\u001b[0m__get__\u001b[0m\u001b[0;34m(\u001b[0m\u001b[0minstance\u001b[0m\u001b[0;34m,\u001b[0m \u001b[0mcls\u001b[0m\u001b[0;34m)\u001b[0m\u001b[0;34m\u001b[0m\u001b[0;34m\u001b[0m\u001b[0m\n\u001b[0;32m---> 65\u001b[0;31m                 \u001b[0;32mreturn\u001b[0m \u001b[0mwrapped\u001b[0m\u001b[0;34m(\u001b[0m\u001b[0;34m*\u001b[0m\u001b[0margs\u001b[0m\u001b[0;34m,\u001b[0m \u001b[0;34m**\u001b[0m\u001b[0mkwargs\u001b[0m\u001b[0;34m)\u001b[0m\u001b[0;34m\u001b[0m\u001b[0;34m\u001b[0m\u001b[0m\n\u001b[0m\u001b[1;32m     66\u001b[0m \u001b[0;34m\u001b[0m\u001b[0m\n\u001b[1;32m     67\u001b[0m             \u001b[0;31m# Note that the returned function here is no longer a bound method,\u001b[0m\u001b[0;34m\u001b[0m\u001b[0;34m\u001b[0m\u001b[0;34m\u001b[0m\u001b[0m\n",
      "\u001b[0;32m~/.virtualenvs/nlp/lib/python3.8/site-packages/torch/optim/optimizer.py\u001b[0m in \u001b[0;36mwrapper\u001b[0;34m(*args, **kwargs)\u001b[0m\n\u001b[1;32m     87\u001b[0m                 \u001b[0mprofile_name\u001b[0m \u001b[0;34m=\u001b[0m \u001b[0;34m\"Optimizer.step#{}.step\"\u001b[0m\u001b[0;34m.\u001b[0m\u001b[0mformat\u001b[0m\u001b[0;34m(\u001b[0m\u001b[0mobj\u001b[0m\u001b[0;34m.\u001b[0m\u001b[0m__class__\u001b[0m\u001b[0;34m.\u001b[0m\u001b[0m__name__\u001b[0m\u001b[0;34m)\u001b[0m\u001b[0;34m\u001b[0m\u001b[0;34m\u001b[0m\u001b[0m\n\u001b[1;32m     88\u001b[0m                 \u001b[0;32mwith\u001b[0m \u001b[0mtorch\u001b[0m\u001b[0;34m.\u001b[0m\u001b[0mautograd\u001b[0m\u001b[0;34m.\u001b[0m\u001b[0mprofiler\u001b[0m\u001b[0;34m.\u001b[0m\u001b[0mrecord_function\u001b[0m\u001b[0;34m(\u001b[0m\u001b[0mprofile_name\u001b[0m\u001b[0;34m)\u001b[0m\u001b[0;34m:\u001b[0m\u001b[0;34m\u001b[0m\u001b[0;34m\u001b[0m\u001b[0m\n\u001b[0;32m---> 89\u001b[0;31m                     \u001b[0;32mreturn\u001b[0m \u001b[0mfunc\u001b[0m\u001b[0;34m(\u001b[0m\u001b[0;34m*\u001b[0m\u001b[0margs\u001b[0m\u001b[0;34m,\u001b[0m \u001b[0;34m**\u001b[0m\u001b[0mkwargs\u001b[0m\u001b[0;34m)\u001b[0m\u001b[0;34m\u001b[0m\u001b[0;34m\u001b[0m\u001b[0m\n\u001b[0m\u001b[1;32m     90\u001b[0m             \u001b[0;32mreturn\u001b[0m \u001b[0mwrapper\u001b[0m\u001b[0;34m\u001b[0m\u001b[0;34m\u001b[0m\u001b[0m\n\u001b[1;32m     91\u001b[0m \u001b[0;34m\u001b[0m\u001b[0m\n",
      "\u001b[0;32m~/.virtualenvs/nlp/lib/python3.8/site-packages/transformers/optimization.py\u001b[0m in \u001b[0;36mstep\u001b[0;34m(self, closure)\u001b[0m\n\u001b[1;32m    353\u001b[0m                     \u001b[0mstep_size\u001b[0m \u001b[0;34m=\u001b[0m \u001b[0mstep_size\u001b[0m \u001b[0;34m*\u001b[0m \u001b[0mmath\u001b[0m\u001b[0;34m.\u001b[0m\u001b[0msqrt\u001b[0m\u001b[0;34m(\u001b[0m\u001b[0mbias_correction2\u001b[0m\u001b[0;34m)\u001b[0m \u001b[0;34m/\u001b[0m \u001b[0mbias_correction1\u001b[0m\u001b[0;34m\u001b[0m\u001b[0;34m\u001b[0m\u001b[0m\n\u001b[1;32m    354\u001b[0m \u001b[0;34m\u001b[0m\u001b[0m\n\u001b[0;32m--> 355\u001b[0;31m                 \u001b[0mp\u001b[0m\u001b[0;34m.\u001b[0m\u001b[0mdata\u001b[0m\u001b[0;34m.\u001b[0m\u001b[0maddcdiv_\u001b[0m\u001b[0;34m(\u001b[0m\u001b[0mexp_avg\u001b[0m\u001b[0;34m,\u001b[0m \u001b[0mdenom\u001b[0m\u001b[0;34m,\u001b[0m \u001b[0mvalue\u001b[0m\u001b[0;34m=\u001b[0m\u001b[0;34m-\u001b[0m\u001b[0mstep_size\u001b[0m\u001b[0;34m)\u001b[0m\u001b[0;34m\u001b[0m\u001b[0;34m\u001b[0m\u001b[0m\n\u001b[0m\u001b[1;32m    356\u001b[0m \u001b[0;34m\u001b[0m\u001b[0m\n\u001b[1;32m    357\u001b[0m                 \u001b[0;31m# Just adding the square of the weights to the loss function is *not*\u001b[0m\u001b[0;34m\u001b[0m\u001b[0;34m\u001b[0m\u001b[0;34m\u001b[0m\u001b[0m\n",
      "\u001b[0;31mKeyboardInterrupt\u001b[0m: "
     ]
    }
   ],
   "source": [
    "## Store the average loss after each epoch so we can plot them.\n",
    "loss_values, validation_loss_values = [], []\n",
    "n_train_samples = len(train_dataloader)\n",
    "n_val_samples = len(valid_dataloader)\n",
    "\n",
    "for eidx in range(EPOCHS):\n",
    "\n",
    "    print(f'Epoch {eidx}/{EPOCHS}')\n",
    "\n",
    "    # ========================================\n",
    "    #               Training\n",
    "    # ========================================\n",
    "    # Perform one full pass over the training set.\n",
    "\n",
    "    # Put the model into training mode.\n",
    "    model.train()\n",
    "    # Reset the total loss for this epoch.\n",
    "    total_loss = 0\n",
    "\n",
    "    # Training loop\n",
    "    for step, batch in enumerate(train_dataloader):\n",
    "\n",
    "        print(f'Step {step}/{n_train_samples}')\n",
    "\n",
    "        # add batch to gpu\n",
    "        batch = tuple(t.to(device) for t in batch)\n",
    "        b_input_ids, b_input_mask, b_labels = batch\n",
    "        # Always clear any previously calculated gradients before performing a backward pass.\n",
    "        model.zero_grad()\n",
    "        # forward pass\n",
    "        # This will return the loss (rather than the model output)\n",
    "        # because we have provided the `labels`.\n",
    "        outputs = model(b_input_ids, token_type_ids=None,\n",
    "                        attention_mask=b_input_mask, labels=b_labels)\n",
    "        # get the loss\n",
    "        loss = outputs[0]\n",
    "        # Perform a backward pass to calculate the gradients.\n",
    "        loss.backward()\n",
    "        # track train loss\n",
    "        total_loss += loss.item()\n",
    "        # Clip the norm of the gradient\n",
    "        # This is to help prevent the \"exploding gradients\" problem.\n",
    "        torch.nn.utils.clip_grad_norm_(parameters=model.parameters(), max_norm=max_grad_norm)\n",
    "        # update parameters\n",
    "        optimizer.step()\n",
    "        # Update the learning rate.\n",
    "        scheduler.step()\n",
    "\n",
    "    # Calculate the average loss over the training data.\n",
    "    avg_train_loss = total_loss / len(train_dataloader)\n",
    "    print(\"Average train loss: {}\".format(avg_train_loss))\n",
    "\n",
    "    # Store the loss value for plotting the learning curve.\n",
    "    loss_values.append(avg_train_loss)\n",
    "\n",
    "\n",
    "    # ========================================\n",
    "    #               Validation\n",
    "    # ========================================\n",
    "    # After the completion of each training epoch, measure our performance on\n",
    "    # our validation set.\n",
    "\n",
    "    # Put the model into evaluation mode\n",
    "    model.eval()\n",
    "    # Reset the validation loss for this epoch.\n",
    "    eval_loss, eval_accuracy = 0, 0\n",
    "    nb_eval_steps, nb_eval_examples = 0, 0\n",
    "    predictions , true_labels = [], []\n",
    "    for batch in valid_dataloader:\n",
    "\n",
    "        print(f'Step {step}/{n_val_samples}')\n",
    "\n",
    "        batch = tuple(t.to(device) for t in batch)\n",
    "        b_input_ids, b_input_mask, b_labels = batch\n",
    "\n",
    "        # Telling the model not to compute or store gradients,\n",
    "        # saving memory and speeding up validation\n",
    "        with torch.no_grad():\n",
    "            # Forward pass, calculate logit predictions.\n",
    "            # This will return the logits rather than the loss because we have not provided labels.\n",
    "            outputs = model(b_input_ids, token_type_ids=None,\n",
    "                            attention_mask=b_input_mask, labels=b_labels)\n",
    "        # Move logits and labels to CPU\n",
    "        logits = outputs[1].detach().cpu().numpy()\n",
    "        label_ids = b_labels.to('cpu').numpy()\n",
    "\n",
    "        # Calculate the accuracy for this batch of test sentences.\n",
    "        eval_loss += outputs[0].mean().item()\n",
    "        predictions.extend([list(p) for p in np.argmax(logits, axis=2)])\n",
    "        true_labels.extend(label_ids)\n",
    "\n",
    "    eval_loss = eval_loss / len(valid_dataloader)\n",
    "    validation_loss_values.append(eval_loss)\n",
    "    print(\"Validation loss: {}\".format(eval_loss))\n",
    "    pred_tags = [tag_values[p_i] for p, l in zip(predictions, true_labels)\n",
    "                                 for p_i, l_i in zip(p, l) if tag_values[l_i] != \"PAD\"]\n",
    "    valid_tags = [tag_values[l_i] for l in true_labels\n",
    "                                  for l_i in l if tag_values[l_i] != \"PAD\"]\n",
    "    print(\"Validation Accuracy: {}\".format(accuracy_score(pred_tags, valid_tags)))\n",
    "    print(\"Validation F1-Score: {}\".format(f1_score(pred_tags, valid_tags)))\n",
    "    print()\n"
   ]
  },
  {
   "cell_type": "code",
   "execution_count": 23,
   "id": "7857d7bb",
   "metadata": {},
   "outputs": [],
   "source": [
    "outputs = model(tr_inputs[:32], attention_mask=tr_masks[:32], labels=tr_tags[:32])"
   ]
  },
  {
   "cell_type": "code",
   "execution_count": null,
   "id": "90177486",
   "metadata": {},
   "outputs": [],
   "source": [
    "loss = outputs.loss\n",
    "loss.backward()\n",
    "optimizer.step()"
   ]
  },
  {
   "cell_type": "code",
   "execution_count": 27,
   "id": "1dfb3952",
   "metadata": {},
   "outputs": [
    {
     "data": {
      "text/plain": [
       "torch.Size([32, 64, 3])"
      ]
     },
     "execution_count": 27,
     "metadata": {},
     "output_type": "execute_result"
    }
   ],
   "source": [
    "outputs.logits.size()"
   ]
  },
  {
   "cell_type": "code",
   "execution_count": null,
   "id": "9ec3c2a9",
   "metadata": {},
   "outputs": [],
   "source": []
  }
 ],
 "metadata": {
  "kernelspec": {
   "display_name": "Python 3",
   "language": "python",
   "name": "python3"
  },
  "language_info": {
   "codemirror_mode": {
    "name": "ipython",
    "version": 3
   },
   "file_extension": ".py",
   "mimetype": "text/x-python",
   "name": "python",
   "nbconvert_exporter": "python",
   "pygments_lexer": "ipython3",
   "version": "3.8.2"
  }
 },
 "nbformat": 4,
 "nbformat_minor": 5
}
